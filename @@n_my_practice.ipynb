{
 "cells": [
  {
   "cell_type": "markdown",
   "metadata": {
    "papermill": {
     "duration": 0.07228,
     "end_time": "2023-06-24T07:21:02.303719",
     "exception": false,
     "start_time": "2023-06-24T07:21:02.231439",
     "status": "completed"
    },
    "tags": []
   },
   "source": [
    "# ******* Part 1 *******"
   ]
  },
  {
   "cell_type": "code",
   "execution_count": 1,
   "metadata": {
    "_cell_guid": "b1076dfc-b9ad-4769-8c92-a6c4dae69d19",
    "_uuid": "8f2839f25d086af736a60e9eeb907d3b93b6e0e5",
    "execution": {
     "iopub.execute_input": "2023-06-24T07:21:02.451182Z",
     "iopub.status.busy": "2023-06-24T07:21:02.450703Z",
     "iopub.status.idle": "2023-06-24T07:21:02.453090Z",
     "shell.execute_reply": "2023-06-24T07:21:02.453549Z",
     "shell.execute_reply.started": "2023-06-23T13:42:17.997114Z"
    },
    "papermill": {
     "duration": 0.078432,
     "end_time": "2023-06-24T07:21:02.453770",
     "exception": false,
     "start_time": "2023-06-24T07:21:02.375338",
     "status": "completed"
    },
    "tags": []
   },
   "outputs": [],
   "source": [
    "import numpy as np"
   ]
  },
  {
   "cell_type": "code",
   "execution_count": 2,
   "metadata": {
    "execution": {
     "iopub.execute_input": "2023-06-24T07:21:02.599988Z",
     "iopub.status.busy": "2023-06-24T07:21:02.599277Z",
     "iopub.status.idle": "2023-06-24T07:21:02.603815Z",
     "shell.execute_reply": "2023-06-24T07:21:02.603317Z",
     "shell.execute_reply.started": "2023-06-23T13:42:18.004536Z"
    },
    "papermill": {
     "duration": 0.079628,
     "end_time": "2023-06-24T07:21:02.603934",
     "exception": false,
     "start_time": "2023-06-24T07:21:02.524306",
     "status": "completed"
    },
    "tags": []
   },
   "outputs": [
    {
     "name": "stdout",
     "output_type": "stream",
     "text": [
      "[1, 2, 3, 4, 5]\n"
     ]
    }
   ],
   "source": [
    "lst =  [1, 2, 3, 4, 5]\n",
    "print(lst)"
   ]
  },
  {
   "cell_type": "markdown",
   "metadata": {
    "papermill": {
     "duration": 0.070639,
     "end_time": "2023-06-24T07:21:02.745823",
     "exception": false,
     "start_time": "2023-06-24T07:21:02.675184",
     "status": "completed"
    },
    "tags": []
   },
   "source": [
    "**Advantage of Numpy Array over Lists**"
   ]
  },
  {
   "cell_type": "code",
   "execution_count": 3,
   "metadata": {
    "execution": {
     "iopub.execute_input": "2023-06-24T07:21:02.898336Z",
     "iopub.status.busy": "2023-06-24T07:21:02.897518Z",
     "iopub.status.idle": "2023-06-24T07:21:02.903156Z",
     "shell.execute_reply": "2023-06-24T07:21:02.903589Z",
     "shell.execute_reply.started": "2023-06-23T13:42:18.018336Z"
    },
    "papermill": {
     "duration": 0.08682,
     "end_time": "2023-06-24T07:21:02.903748",
     "exception": false,
     "start_time": "2023-06-24T07:21:02.816928",
     "status": "completed"
    },
    "tags": []
   },
   "outputs": [
    {
     "name": "stdout",
     "output_type": "stream",
     "text": [
      "1D Array\n",
      "[1 2 3 4 5]\n",
      "2D Array\n",
      "[[ 1  2  3  4  5]\n",
      " [ 6  7  8  9 10]]\n",
      "3D Array\n",
      "[[[ 1  2  3  4  5]\n",
      "  [ 6  7  8  9 10]\n",
      "  [11 12 13 14 15]]]\n"
     ]
    }
   ],
   "source": [
    "print('1D Array')\n",
    "a = np.array([1, 2, 3, 4, 5])\n",
    "print(a)\n",
    "\n",
    "\n",
    "#----------------------------\n",
    "\n",
    "\n",
    "print('2D Array')\n",
    "b = np.array([[1, 2, 3, 4, 5], \n",
    "              [6, 7, 8, 9, 10]])\n",
    "print(b)\n",
    "\n",
    "\n",
    "#----------------------------\n",
    "\n",
    "print('3D Array')\n",
    "c = np.array([[[1, 2, 3, 4, 5], \n",
    "              [6, 7, 8, 9, 10], \n",
    "              [11, 12, 13, 14, 15]]])\n",
    "print(c)"
   ]
  },
  {
   "cell_type": "code",
   "execution_count": 4,
   "metadata": {
    "execution": {
     "iopub.execute_input": "2023-06-24T07:21:03.059507Z",
     "iopub.status.busy": "2023-06-24T07:21:03.058788Z",
     "iopub.status.idle": "2023-06-24T07:21:03.063994Z",
     "shell.execute_reply": "2023-06-24T07:21:03.063374Z",
     "shell.execute_reply.started": "2023-06-23T13:42:18.032615Z"
    },
    "papermill": {
     "duration": 0.087259,
     "end_time": "2023-06-24T07:21:03.064132",
     "exception": false,
     "start_time": "2023-06-24T07:21:02.976873",
     "status": "completed"
    },
    "tags": []
   },
   "outputs": [
    {
     "data": {
      "text/plain": [
       "numpy.ndarray"
      ]
     },
     "execution_count": 4,
     "metadata": {},
     "output_type": "execute_result"
    }
   ],
   "source": [
    "type(a)"
   ]
  },
  {
   "cell_type": "markdown",
   "metadata": {
    "papermill": {
     "duration": 0.072264,
     "end_time": "2023-06-24T07:21:03.209613",
     "exception": false,
     "start_time": "2023-06-24T07:21:03.137349",
     "status": "completed"
    },
    "tags": []
   },
   "source": [
    "**size = Tells about no. of elements in that array**"
   ]
  },
  {
   "cell_type": "code",
   "execution_count": 5,
   "metadata": {
    "execution": {
     "iopub.execute_input": "2023-06-24T07:21:03.360546Z",
     "iopub.status.busy": "2023-06-24T07:21:03.359814Z",
     "iopub.status.idle": "2023-06-24T07:21:03.363239Z",
     "shell.execute_reply": "2023-06-24T07:21:03.362736Z",
     "shell.execute_reply.started": "2023-06-23T13:42:18.042463Z"
    },
    "papermill": {
     "duration": 0.080676,
     "end_time": "2023-06-24T07:21:03.363400",
     "exception": false,
     "start_time": "2023-06-24T07:21:03.282724",
     "status": "completed"
    },
    "tags": []
   },
   "outputs": [
    {
     "name": "stdout",
     "output_type": "stream",
     "text": [
      "5\n",
      "10\n",
      "15\n"
     ]
    }
   ],
   "source": [
    "print(a.size)\n",
    "print(b.size)\n",
    "print(c.size)"
   ]
  },
  {
   "cell_type": "markdown",
   "metadata": {
    "papermill": {
     "duration": 0.072161,
     "end_time": "2023-06-24T07:21:03.508717",
     "exception": false,
     "start_time": "2023-06-24T07:21:03.436556",
     "status": "completed"
    },
    "tags": []
   },
   "source": [
    "**shape = (rows, cols)**"
   ]
  },
  {
   "cell_type": "code",
   "execution_count": 6,
   "metadata": {
    "execution": {
     "iopub.execute_input": "2023-06-24T07:21:03.658174Z",
     "iopub.status.busy": "2023-06-24T07:21:03.657541Z",
     "iopub.status.idle": "2023-06-24T07:21:03.659754Z",
     "shell.execute_reply": "2023-06-24T07:21:03.660165Z",
     "shell.execute_reply.started": "2023-06-23T13:42:18.053833Z"
    },
    "papermill": {
     "duration": 0.079398,
     "end_time": "2023-06-24T07:21:03.660344",
     "exception": false,
     "start_time": "2023-06-24T07:21:03.580946",
     "status": "completed"
    },
    "tags": []
   },
   "outputs": [
    {
     "name": "stdout",
     "output_type": "stream",
     "text": [
      "(5,)\n",
      "(2, 5)\n",
      "(1, 3, 5)\n"
     ]
    }
   ],
   "source": [
    "print(a.shape)\n",
    "print(b.shape)\n",
    "print(c.shape)"
   ]
  },
  {
   "cell_type": "markdown",
   "metadata": {
    "papermill": {
     "duration": 0.071567,
     "end_time": "2023-06-24T07:21:03.804171",
     "exception": false,
     "start_time": "2023-06-24T07:21:03.732604",
     "status": "completed"
    },
    "tags": []
   },
   "source": [
    "**dtype = Type of Data Present in the array**"
   ]
  },
  {
   "cell_type": "code",
   "execution_count": 7,
   "metadata": {
    "execution": {
     "iopub.execute_input": "2023-06-24T07:21:03.954826Z",
     "iopub.status.busy": "2023-06-24T07:21:03.954246Z",
     "iopub.status.idle": "2023-06-24T07:21:03.957958Z",
     "shell.execute_reply": "2023-06-24T07:21:03.957374Z",
     "shell.execute_reply.started": "2023-06-23T13:42:18.063361Z"
    },
    "papermill": {
     "duration": 0.081693,
     "end_time": "2023-06-24T07:21:03.958095",
     "exception": false,
     "start_time": "2023-06-24T07:21:03.876402",
     "status": "completed"
    },
    "tags": []
   },
   "outputs": [
    {
     "name": "stdout",
     "output_type": "stream",
     "text": [
      "int64\n",
      "int64\n",
      "int64\n"
     ]
    }
   ],
   "source": [
    "print(a.dtype)\n",
    "print(b.dtype)\n",
    "print(c.dtype)"
   ]
  },
  {
   "cell_type": "code",
   "execution_count": 8,
   "metadata": {
    "execution": {
     "iopub.execute_input": "2023-06-24T07:21:04.110996Z",
     "iopub.status.busy": "2023-06-24T07:21:04.110398Z",
     "iopub.status.idle": "2023-06-24T07:21:04.113056Z",
     "shell.execute_reply": "2023-06-24T07:21:04.112544Z",
     "shell.execute_reply.started": "2023-06-23T13:42:18.076223Z"
    },
    "papermill": {
     "duration": 0.081665,
     "end_time": "2023-06-24T07:21:04.113180",
     "exception": false,
     "start_time": "2023-06-24T07:21:04.031515",
     "status": "completed"
    },
    "tags": []
   },
   "outputs": [
    {
     "name": "stdout",
     "output_type": "stream",
     "text": [
      "float64\n"
     ]
    }
   ],
   "source": [
    "d = np.array([[1, 2, 3, 4.2, 5], \n",
    "              [6, 7, 8.9, 9, 10], \n",
    "              [11, 12, 13, 14, 15]])\n",
    "\n",
    "print(d.dtype)"
   ]
  },
  {
   "cell_type": "markdown",
   "metadata": {
    "papermill": {
     "duration": 0.07273,
     "end_time": "2023-06-24T07:21:04.259410",
     "exception": false,
     "start_time": "2023-06-24T07:21:04.186680",
     "status": "completed"
    },
    "tags": []
   },
   "source": [
    "arr.transpose()"
   ]
  },
  {
   "cell_type": "code",
   "execution_count": 9,
   "metadata": {
    "execution": {
     "iopub.execute_input": "2023-06-24T07:21:04.410175Z",
     "iopub.status.busy": "2023-06-24T07:21:04.409019Z",
     "iopub.status.idle": "2023-06-24T07:21:04.413073Z",
     "shell.execute_reply": "2023-06-24T07:21:04.412636Z",
     "shell.execute_reply.started": "2023-06-23T13:42:18.086937Z"
    },
    "papermill": {
     "duration": 0.081415,
     "end_time": "2023-06-24T07:21:04.413205",
     "exception": false,
     "start_time": "2023-06-24T07:21:04.331790",
     "status": "completed"
    },
    "tags": []
   },
   "outputs": [
    {
     "data": {
      "text/plain": [
       "array([[ 1. ,  6. , 11. ],\n",
       "       [ 2. ,  7. , 12. ],\n",
       "       [ 3. ,  8.9, 13. ],\n",
       "       [ 4.2,  9. , 14. ],\n",
       "       [ 5. , 10. , 15. ]])"
      ]
     },
     "execution_count": 9,
     "metadata": {},
     "output_type": "execute_result"
    }
   ],
   "source": [
    "d.transpose()"
   ]
  },
  {
   "cell_type": "markdown",
   "metadata": {
    "papermill": {
     "duration": 0.072907,
     "end_time": "2023-06-24T07:21:04.559102",
     "exception": false,
     "start_time": "2023-06-24T07:21:04.486195",
     "status": "completed"
    },
    "tags": []
   },
   "source": [
    "#ndim----returns dimnetions of an array\n",
    "type(arr)---returns type of array\n"
   ]
  },
  {
   "cell_type": "code",
   "execution_count": 10,
   "metadata": {
    "execution": {
     "iopub.execute_input": "2023-06-24T07:21:04.707383Z",
     "iopub.status.busy": "2023-06-24T07:21:04.706865Z",
     "iopub.status.idle": "2023-06-24T07:21:04.711372Z",
     "shell.execute_reply": "2023-06-24T07:21:04.711872Z",
     "shell.execute_reply.started": "2023-06-23T13:42:18.100099Z"
    },
    "papermill": {
     "duration": 0.079876,
     "end_time": "2023-06-24T07:21:04.712043",
     "exception": false,
     "start_time": "2023-06-24T07:21:04.632167",
     "status": "completed"
    },
    "tags": []
   },
   "outputs": [
    {
     "data": {
      "text/plain": [
       "numpy.ndarray"
      ]
     },
     "execution_count": 10,
     "metadata": {},
     "output_type": "execute_result"
    }
   ],
   "source": [
    "type(d)"
   ]
  },
  {
   "cell_type": "code",
   "execution_count": null,
   "metadata": {
    "papermill": {
     "duration": 0.073095,
     "end_time": "2023-06-24T07:21:04.858384",
     "exception": false,
     "start_time": "2023-06-24T07:21:04.785289",
     "status": "completed"
    },
    "tags": []
   },
   "outputs": [],
   "source": []
  },
  {
   "cell_type": "markdown",
   "metadata": {
    "papermill": {
     "duration": 0.072569,
     "end_time": "2023-06-24T07:21:05.003933",
     "exception": false,
     "start_time": "2023-06-24T07:21:04.931364",
     "status": "completed"
    },
    "tags": []
   },
   "source": [
    "# *************************** Part 2 ***************************"
   ]
  },
  {
   "cell_type": "markdown",
   "metadata": {
    "papermill": {
     "duration": 0.087684,
     "end_time": "2023-06-24T07:21:05.171152",
     "exception": false,
     "start_time": "2023-06-24T07:21:05.083468",
     "status": "completed"
    },
    "tags": []
   },
   "source": [
    "**np.empty((rows, cols), dtype)**"
   ]
  },
  {
   "cell_type": "code",
   "execution_count": 11,
   "metadata": {
    "execution": {
     "iopub.execute_input": "2023-06-24T07:21:05.326633Z",
     "iopub.status.busy": "2023-06-24T07:21:05.324290Z",
     "iopub.status.idle": "2023-06-24T07:21:05.329997Z",
     "shell.execute_reply": "2023-06-24T07:21:05.330499Z",
     "shell.execute_reply.started": "2023-06-23T13:42:18.185191Z"
    },
    "papermill": {
     "duration": 0.082706,
     "end_time": "2023-06-24T07:21:05.330728",
     "exception": false,
     "start_time": "2023-06-24T07:21:05.248022",
     "status": "completed"
    },
    "tags": []
   },
   "outputs": [
    {
     "data": {
      "text/plain": [
       "array([[4.67296267e-310, 0.00000000e+000, 2.41907520e-312,\n",
       "        2.14321575e-312],\n",
       "       [2.46151512e-312, 2.31297541e-312, 2.35541533e-312,\n",
       "        2.05833592e-312],\n",
       "       [2.22809558e-312, 2.56761491e-312, 2.48273508e-312,\n",
       "        2.05833592e-312],\n",
       "       [2.05833592e-312, 2.29175545e-312, 2.07955588e-312,\n",
       "        2.14321575e-312]])"
      ]
     },
     "execution_count": 11,
     "metadata": {},
     "output_type": "execute_result"
    }
   ],
   "source": [
    "np.empty((4,4), dtype = float)"
   ]
  },
  {
   "cell_type": "markdown",
   "metadata": {
    "papermill": {
     "duration": 0.075894,
     "end_time": "2023-06-24T07:21:05.486324",
     "exception": false,
     "start_time": "2023-06-24T07:21:05.410430",
     "status": "completed"
    },
    "tags": []
   },
   "source": [
    "**np.ones((rows, cols), dtype)**"
   ]
  },
  {
   "cell_type": "code",
   "execution_count": 12,
   "metadata": {
    "execution": {
     "iopub.execute_input": "2023-06-24T07:21:05.637267Z",
     "iopub.status.busy": "2023-06-24T07:21:05.636736Z",
     "iopub.status.idle": "2023-06-24T07:21:05.644173Z",
     "shell.execute_reply": "2023-06-24T07:21:05.643635Z",
     "shell.execute_reply.started": "2023-06-23T13:42:18.195456Z"
    },
    "papermill": {
     "duration": 0.084301,
     "end_time": "2023-06-24T07:21:05.644349",
     "exception": false,
     "start_time": "2023-06-24T07:21:05.560048",
     "status": "completed"
    },
    "tags": []
   },
   "outputs": [
    {
     "data": {
      "text/plain": [
       "array([1., 1., 1., 1., 1., 1.])"
      ]
     },
     "execution_count": 12,
     "metadata": {},
     "output_type": "execute_result"
    }
   ],
   "source": [
    "x = np.ones(6)\n",
    "x"
   ]
  },
  {
   "cell_type": "code",
   "execution_count": 13,
   "metadata": {
    "execution": {
     "iopub.execute_input": "2023-06-24T07:21:05.810770Z",
     "iopub.status.busy": "2023-06-24T07:21:05.810150Z",
     "iopub.status.idle": "2023-06-24T07:21:05.813940Z",
     "shell.execute_reply": "2023-06-24T07:21:05.813410Z",
     "shell.execute_reply.started": "2023-06-23T13:42:18.206887Z"
    },
    "papermill": {
     "duration": 0.08658,
     "end_time": "2023-06-24T07:21:05.814078",
     "exception": false,
     "start_time": "2023-06-24T07:21:05.727498",
     "status": "completed"
    },
    "tags": []
   },
   "outputs": [
    {
     "data": {
      "text/plain": [
       "array([[1., 1., 1., 1., 1.],\n",
       "       [1., 1., 1., 1., 1.],\n",
       "       [1., 1., 1., 1., 1.]])"
      ]
     },
     "execution_count": 13,
     "metadata": {},
     "output_type": "execute_result"
    }
   ],
   "source": [
    "y = np.ones((3,5))\n",
    "y"
   ]
  },
  {
   "cell_type": "code",
   "execution_count": 14,
   "metadata": {
    "execution": {
     "iopub.execute_input": "2023-06-24T07:21:05.969199Z",
     "iopub.status.busy": "2023-06-24T07:21:05.968498Z",
     "iopub.status.idle": "2023-06-24T07:21:05.974310Z",
     "shell.execute_reply": "2023-06-24T07:21:05.973623Z",
     "shell.execute_reply.started": "2023-06-23T13:42:18.218500Z"
    },
    "papermill": {
     "duration": 0.085233,
     "end_time": "2023-06-24T07:21:05.974465",
     "exception": false,
     "start_time": "2023-06-24T07:21:05.889232",
     "status": "completed"
    },
    "tags": []
   },
   "outputs": [
    {
     "data": {
      "text/plain": [
       "array([[1, 1, 1, 1, 1],\n",
       "       [1, 1, 1, 1, 1],\n",
       "       [1, 1, 1, 1, 1]])"
      ]
     },
     "execution_count": 14,
     "metadata": {},
     "output_type": "execute_result"
    }
   ],
   "source": [
    "z = np.ones((3,5), dtype = int)\n",
    "z"
   ]
  },
  {
   "cell_type": "markdown",
   "metadata": {
    "papermill": {
     "duration": 0.076902,
     "end_time": "2023-06-24T07:21:06.127438",
     "exception": false,
     "start_time": "2023-06-24T07:21:06.050536",
     "status": "completed"
    },
    "tags": []
   },
   "source": [
    "**np.zeros((rows, cols), dtype)**"
   ]
  },
  {
   "cell_type": "code",
   "execution_count": 15,
   "metadata": {
    "execution": {
     "iopub.execute_input": "2023-06-24T07:21:06.284601Z",
     "iopub.status.busy": "2023-06-24T07:21:06.281761Z",
     "iopub.status.idle": "2023-06-24T07:21:06.288898Z",
     "shell.execute_reply": "2023-06-24T07:21:06.288429Z",
     "shell.execute_reply.started": "2023-06-23T13:42:18.233562Z"
    },
    "papermill": {
     "duration": 0.085457,
     "end_time": "2023-06-24T07:21:06.289038",
     "exception": false,
     "start_time": "2023-06-24T07:21:06.203581",
     "status": "completed"
    },
    "tags": []
   },
   "outputs": [
    {
     "data": {
      "text/plain": [
       "array([0., 0., 0., 0.])"
      ]
     },
     "execution_count": 15,
     "metadata": {},
     "output_type": "execute_result"
    }
   ],
   "source": [
    "x = np.zeros(4)\n",
    "x"
   ]
  },
  {
   "cell_type": "code",
   "execution_count": 16,
   "metadata": {
    "execution": {
     "iopub.execute_input": "2023-06-24T07:21:06.445184Z",
     "iopub.status.busy": "2023-06-24T07:21:06.444621Z",
     "iopub.status.idle": "2023-06-24T07:21:06.447417Z",
     "shell.execute_reply": "2023-06-24T07:21:06.447878Z",
     "shell.execute_reply.started": "2023-06-23T13:42:18.243291Z"
    },
    "papermill": {
     "duration": 0.082827,
     "end_time": "2023-06-24T07:21:06.448029",
     "exception": false,
     "start_time": "2023-06-24T07:21:06.365202",
     "status": "completed"
    },
    "tags": []
   },
   "outputs": [
    {
     "data": {
      "text/plain": [
       "array([[0., 0., 0., 0., 0., 0., 0., 0.],\n",
       "       [0., 0., 0., 0., 0., 0., 0., 0.],\n",
       "       [0., 0., 0., 0., 0., 0., 0., 0.],\n",
       "       [0., 0., 0., 0., 0., 0., 0., 0.]])"
      ]
     },
     "execution_count": 16,
     "metadata": {},
     "output_type": "execute_result"
    }
   ],
   "source": [
    "y = np.zeros((4,8))\n",
    "y"
   ]
  },
  {
   "cell_type": "code",
   "execution_count": 17,
   "metadata": {
    "execution": {
     "iopub.execute_input": "2023-06-24T07:21:06.600699Z",
     "iopub.status.busy": "2023-06-24T07:21:06.600013Z",
     "iopub.status.idle": "2023-06-24T07:21:06.604874Z",
     "shell.execute_reply": "2023-06-24T07:21:06.605373Z",
     "shell.execute_reply.started": "2023-06-23T13:42:18.253732Z"
    },
    "papermill": {
     "duration": 0.082801,
     "end_time": "2023-06-24T07:21:06.605537",
     "exception": false,
     "start_time": "2023-06-24T07:21:06.522736",
     "status": "completed"
    },
    "tags": []
   },
   "outputs": [
    {
     "data": {
      "text/plain": [
       "array([[0, 0, 0, 0, 0, 0, 0, 0],\n",
       "       [0, 0, 0, 0, 0, 0, 0, 0],\n",
       "       [0, 0, 0, 0, 0, 0, 0, 0],\n",
       "       [0, 0, 0, 0, 0, 0, 0, 0]])"
      ]
     },
     "execution_count": 17,
     "metadata": {},
     "output_type": "execute_result"
    }
   ],
   "source": [
    "z = np.zeros((4,8), dtype = int)\n",
    "z"
   ]
  },
  {
   "cell_type": "code",
   "execution_count": 18,
   "metadata": {
    "execution": {
     "iopub.execute_input": "2023-06-24T07:21:06.759664Z",
     "iopub.status.busy": "2023-06-24T07:21:06.759047Z",
     "iopub.status.idle": "2023-06-24T07:21:06.764505Z",
     "shell.execute_reply": "2023-06-24T07:21:06.765058Z",
     "shell.execute_reply.started": "2023-06-23T13:42:18.267888Z"
    },
    "papermill": {
     "duration": 0.084111,
     "end_time": "2023-06-24T07:21:06.765230",
     "exception": false,
     "start_time": "2023-06-24T07:21:06.681119",
     "status": "completed"
    },
    "tags": []
   },
   "outputs": [
    {
     "data": {
      "text/plain": [
       "array([['', '', '', '', '', '', '', ''],\n",
       "       ['', '', '', '', '', '', '', ''],\n",
       "       ['', '', '', '', '', '', '', ''],\n",
       "       ['', '', '', '', '', '', '', '']], dtype='<U1')"
      ]
     },
     "execution_count": 18,
     "metadata": {},
     "output_type": "execute_result"
    }
   ],
   "source": [
    "z = np.zeros((4,8), dtype = str)\n",
    "z"
   ]
  },
  {
   "cell_type": "code",
   "execution_count": 19,
   "metadata": {
    "execution": {
     "iopub.execute_input": "2023-06-24T07:21:06.918857Z",
     "iopub.status.busy": "2023-06-24T07:21:06.918214Z",
     "iopub.status.idle": "2023-06-24T07:21:06.925771Z",
     "shell.execute_reply": "2023-06-24T07:21:06.925102Z",
     "shell.execute_reply.started": "2023-06-23T13:42:18.280408Z"
    },
    "papermill": {
     "duration": 0.085555,
     "end_time": "2023-06-24T07:21:06.925917",
     "exception": false,
     "start_time": "2023-06-24T07:21:06.840362",
     "status": "completed"
    },
    "tags": []
   },
   "outputs": [
    {
     "data": {
      "text/plain": [
       "array([[False, False, False, False, False, False, False, False],\n",
       "       [False, False, False, False, False, False, False, False],\n",
       "       [False, False, False, False, False, False, False, False],\n",
       "       [False, False, False, False, False, False, False, False]])"
      ]
     },
     "execution_count": 19,
     "metadata": {},
     "output_type": "execute_result"
    }
   ],
   "source": [
    "z = np.zeros((4,8), dtype = bool)\n",
    "z"
   ]
  },
  {
   "cell_type": "markdown",
   "metadata": {
    "papermill": {
     "duration": 0.076961,
     "end_time": "2023-06-24T07:21:07.081786",
     "exception": false,
     "start_time": "2023-06-24T07:21:07.004825",
     "status": "completed"
    },
    "tags": []
   },
   "source": [
    "# *************************** Part 3 ***************************"
   ]
  },
  {
   "cell_type": "markdown",
   "metadata": {
    "papermill": {
     "duration": 0.076397,
     "end_time": "2023-06-24T07:21:07.234762",
     "exception": false,
     "start_time": "2023-06-24T07:21:07.158365",
     "status": "completed"
    },
    "tags": []
   },
   "source": [
    "**np.arange(start, end, step)**"
   ]
  },
  {
   "cell_type": "code",
   "execution_count": 20,
   "metadata": {
    "execution": {
     "iopub.execute_input": "2023-06-24T07:21:07.393305Z",
     "iopub.status.busy": "2023-06-24T07:21:07.392439Z",
     "iopub.status.idle": "2023-06-24T07:21:07.396033Z",
     "shell.execute_reply": "2023-06-24T07:21:07.395602Z",
     "shell.execute_reply.started": "2023-06-23T13:42:18.293490Z"
    },
    "papermill": {
     "duration": 0.084788,
     "end_time": "2023-06-24T07:21:07.396166",
     "exception": false,
     "start_time": "2023-06-24T07:21:07.311378",
     "status": "completed"
    },
    "tags": []
   },
   "outputs": [
    {
     "name": "stdout",
     "output_type": "stream",
     "text": [
      "[ 1  2  3  4  5  6  7  8  9 10 11 12 13 14 15 16 17 18 19]\n"
     ]
    }
   ],
   "source": [
    "a = np.arange(1,20)\n",
    "print(a)"
   ]
  },
  {
   "cell_type": "code",
   "execution_count": 21,
   "metadata": {
    "execution": {
     "iopub.execute_input": "2023-06-24T07:21:07.554636Z",
     "iopub.status.busy": "2023-06-24T07:21:07.554013Z",
     "iopub.status.idle": "2023-06-24T07:21:07.558621Z",
     "shell.execute_reply": "2023-06-24T07:21:07.557859Z",
     "shell.execute_reply.started": "2023-06-23T13:42:18.304706Z"
    },
    "papermill": {
     "duration": 0.085429,
     "end_time": "2023-06-24T07:21:07.558813",
     "exception": false,
     "start_time": "2023-06-24T07:21:07.473384",
     "status": "completed"
    },
    "tags": []
   },
   "outputs": [
    {
     "name": "stdout",
     "output_type": "stream",
     "text": [
      "[ 1  3  5  7  9 11 13 15 17 19]\n"
     ]
    }
   ],
   "source": [
    "a = np.arange(1,20, 2)\n",
    "print(a)"
   ]
  },
  {
   "cell_type": "code",
   "execution_count": 22,
   "metadata": {
    "execution": {
     "iopub.execute_input": "2023-06-24T07:21:07.715987Z",
     "iopub.status.busy": "2023-06-24T07:21:07.715456Z",
     "iopub.status.idle": "2023-06-24T07:21:07.720016Z",
     "shell.execute_reply": "2023-06-24T07:21:07.719486Z",
     "shell.execute_reply.started": "2023-06-23T13:42:18.319617Z"
    },
    "papermill": {
     "duration": 0.084947,
     "end_time": "2023-06-24T07:21:07.720185",
     "exception": false,
     "start_time": "2023-06-24T07:21:07.635238",
     "status": "completed"
    },
    "tags": []
   },
   "outputs": [
    {
     "name": "stdout",
     "output_type": "stream",
     "text": [
      "[ 2  4  6  8 10 12 14 16 18]\n"
     ]
    }
   ],
   "source": [
    "a = np.arange(2,20, 2)\n",
    "print(a)"
   ]
  },
  {
   "cell_type": "markdown",
   "metadata": {
    "papermill": {
     "duration": 0.076378,
     "end_time": "2023-06-24T07:21:07.872189",
     "exception": false,
     "start_time": "2023-06-24T07:21:07.795811",
     "status": "completed"
    },
    "tags": []
   },
   "source": [
    "**arr.reshape((rows, cols))**"
   ]
  },
  {
   "cell_type": "code",
   "execution_count": 23,
   "metadata": {
    "execution": {
     "iopub.execute_input": "2023-06-24T07:21:08.030337Z",
     "iopub.status.busy": "2023-06-24T07:21:08.029528Z",
     "iopub.status.idle": "2023-06-24T07:21:08.032509Z",
     "shell.execute_reply": "2023-06-24T07:21:08.033010Z",
     "shell.execute_reply.started": "2023-06-23T13:42:18.332367Z"
    },
    "papermill": {
     "duration": 0.083961,
     "end_time": "2023-06-24T07:21:08.033168",
     "exception": false,
     "start_time": "2023-06-24T07:21:07.949207",
     "status": "completed"
    },
    "tags": []
   },
   "outputs": [
    {
     "data": {
      "text/plain": [
       "array([[ 2,  4,  6],\n",
       "       [ 8, 10, 12],\n",
       "       [14, 16, 18]])"
      ]
     },
     "execution_count": 23,
     "metadata": {},
     "output_type": "execute_result"
    }
   ],
   "source": [
    "a = a.reshape((3,3))\n",
    "a"
   ]
  },
  {
   "cell_type": "code",
   "execution_count": 24,
   "metadata": {
    "execution": {
     "iopub.execute_input": "2023-06-24T07:21:08.190890Z",
     "iopub.status.busy": "2023-06-24T07:21:08.190210Z",
     "iopub.status.idle": "2023-06-24T07:21:08.194780Z",
     "shell.execute_reply": "2023-06-24T07:21:08.195240Z",
     "shell.execute_reply.started": "2023-06-23T13:42:18.344711Z"
    },
    "papermill": {
     "duration": 0.083955,
     "end_time": "2023-06-24T07:21:08.195400",
     "exception": false,
     "start_time": "2023-06-24T07:21:08.111445",
     "status": "completed"
    },
    "tags": []
   },
   "outputs": [
    {
     "data": {
      "text/plain": [
       "array([ 1,  3,  5,  7,  9, 11, 13, 15, 17, 19, 21, 23, 25, 27, 29, 31, 33,\n",
       "       35, 37, 39, 41, 43, 45, 47, 49, 51, 53, 55, 57, 59, 61, 63, 65, 67,\n",
       "       69, 71, 73, 75, 77, 79, 81, 83, 85, 87, 89, 91, 93, 95, 97, 99])"
      ]
     },
     "execution_count": 24,
     "metadata": {},
     "output_type": "execute_result"
    }
   ],
   "source": [
    "b = np.arange(1,100,2)\n",
    "b"
   ]
  },
  {
   "cell_type": "code",
   "execution_count": 25,
   "metadata": {
    "execution": {
     "iopub.execute_input": "2023-06-24T07:21:08.352491Z",
     "iopub.status.busy": "2023-06-24T07:21:08.351817Z",
     "iopub.status.idle": "2023-06-24T07:21:08.357224Z",
     "shell.execute_reply": "2023-06-24T07:21:08.357848Z",
     "shell.execute_reply.started": "2023-06-23T13:42:18.357261Z"
    },
    "papermill": {
     "duration": 0.085197,
     "end_time": "2023-06-24T07:21:08.358035",
     "exception": false,
     "start_time": "2023-06-24T07:21:08.272838",
     "status": "completed"
    },
    "tags": []
   },
   "outputs": [
    {
     "data": {
      "text/plain": [
       "array([[ 1,  3,  5,  7,  9],\n",
       "       [11, 13, 15, 17, 19],\n",
       "       [21, 23, 25, 27, 29],\n",
       "       [31, 33, 35, 37, 39],\n",
       "       [41, 43, 45, 47, 49],\n",
       "       [51, 53, 55, 57, 59],\n",
       "       [61, 63, 65, 67, 69],\n",
       "       [71, 73, 75, 77, 79],\n",
       "       [81, 83, 85, 87, 89],\n",
       "       [91, 93, 95, 97, 99]])"
      ]
     },
     "execution_count": 25,
     "metadata": {},
     "output_type": "execute_result"
    }
   ],
   "source": [
    "b = b.reshape((10,5))\n",
    "b"
   ]
  },
  {
   "cell_type": "code",
   "execution_count": 26,
   "metadata": {
    "execution": {
     "iopub.execute_input": "2023-06-24T07:21:08.518210Z",
     "iopub.status.busy": "2023-06-24T07:21:08.517505Z",
     "iopub.status.idle": "2023-06-24T07:21:08.523553Z",
     "shell.execute_reply": "2023-06-24T07:21:08.523072Z",
     "shell.execute_reply.started": "2023-06-23T13:42:18.367491Z"
    },
    "papermill": {
     "duration": 0.085789,
     "end_time": "2023-06-24T07:21:08.523695",
     "exception": false,
     "start_time": "2023-06-24T07:21:08.437906",
     "status": "completed"
    },
    "tags": []
   },
   "outputs": [
    {
     "data": {
      "text/plain": [
       "array([ 1,  3,  5,  7,  9, 11, 13, 15, 17, 19, 21, 23, 25, 27, 29, 31, 33,\n",
       "       35, 37, 39, 41, 43, 45, 47, 49, 51, 53, 55, 57, 59, 61, 63, 65, 67,\n",
       "       69, 71, 73, 75, 77, 79, 81, 83, 85, 87, 89, 91, 93, 95, 97, 99])"
      ]
     },
     "execution_count": 26,
     "metadata": {},
     "output_type": "execute_result"
    }
   ],
   "source": [
    "b = b.flatten()\n",
    "b"
   ]
  },
  {
   "cell_type": "code",
   "execution_count": 27,
   "metadata": {
    "execution": {
     "iopub.execute_input": "2023-06-24T07:21:08.684040Z",
     "iopub.status.busy": "2023-06-24T07:21:08.683539Z",
     "iopub.status.idle": "2023-06-24T07:21:08.687482Z",
     "shell.execute_reply": "2023-06-24T07:21:08.687924Z",
     "shell.execute_reply.started": "2023-06-23T13:42:18.378034Z"
    },
    "papermill": {
     "duration": 0.08589,
     "end_time": "2023-06-24T07:21:08.688109",
     "exception": false,
     "start_time": "2023-06-24T07:21:08.602219",
     "status": "completed"
    },
    "tags": []
   },
   "outputs": [
    {
     "data": {
      "text/plain": [
       "array([ 2,  4,  6,  8, 10, 12, 14, 16, 18])"
      ]
     },
     "execution_count": 27,
     "metadata": {},
     "output_type": "execute_result"
    }
   ],
   "source": [
    "a = a.ravel()\n",
    "a"
   ]
  },
  {
   "cell_type": "markdown",
   "metadata": {
    "papermill": {
     "duration": 0.077084,
     "end_time": "2023-06-24T07:21:08.845660",
     "exception": false,
     "start_time": "2023-06-24T07:21:08.768576",
     "status": "completed"
    },
    "tags": []
   },
   "source": [
    "a.ravel():\n",
    "(i) Return only reference/view of original array\n",
    "(ii) If you modify the array you would notice that the value of original array also changes.\n",
    "(iii) Ravel is faster than flatten() as it does not occupy any memory.\n",
    "(iv) Ravel is a library-level function.\n",
    "\n",
    "a.flatten() :\n",
    "(i) Return copy of original array\n",
    "(ii) If you modify any value of this array value of original array is not affected.\n",
    "(iii) Flatten() is comparatively slower than ravel() as it occupies memory.\n",
    "(iv) Flatten is a method of an ndarray object."
   ]
  },
  {
   "cell_type": "markdown",
   "metadata": {
    "papermill": {
     "duration": 0.078063,
     "end_time": "2023-06-24T07:21:09.000986",
     "exception": false,
     "start_time": "2023-06-24T07:21:08.922923",
     "status": "completed"
    },
    "tags": []
   },
   "source": [
    "# *************************** Part 4 ***************************"
   ]
  },
  {
   "cell_type": "code",
   "execution_count": 28,
   "metadata": {
    "execution": {
     "iopub.execute_input": "2023-06-24T07:21:09.164958Z",
     "iopub.status.busy": "2023-06-24T07:21:09.164341Z",
     "iopub.status.idle": "2023-06-24T07:21:09.167292Z",
     "shell.execute_reply": "2023-06-24T07:21:09.167704Z",
     "shell.execute_reply.started": "2023-06-23T13:42:18.386566Z"
    },
    "papermill": {
     "duration": 0.087556,
     "end_time": "2023-06-24T07:21:09.167905",
     "exception": false,
     "start_time": "2023-06-24T07:21:09.080349",
     "status": "completed"
    },
    "tags": []
   },
   "outputs": [
    {
     "data": {
      "text/plain": [
       "array([[ 1,  2,  3,  4,  5],\n",
       "       [ 6,  7,  8,  9, 10],\n",
       "       [11, 12, 13, 14, 15],\n",
       "       [16, 17, 18, 19, 20],\n",
       "       [21, 22, 23, 24, 25],\n",
       "       [26, 27, 28, 29, 30],\n",
       "       [31, 32, 33, 34, 35],\n",
       "       [36, 37, 38, 39, 40],\n",
       "       [41, 42, 43, 44, 45],\n",
       "       [46, 47, 48, 49, 50]])"
      ]
     },
     "execution_count": 28,
     "metadata": {},
     "output_type": "execute_result"
    }
   ],
   "source": [
    "a = np.arange(1,51)\n",
    "a = a.reshape(10,5)\n",
    "a"
   ]
  },
  {
   "cell_type": "code",
   "execution_count": 29,
   "metadata": {
    "execution": {
     "iopub.execute_input": "2023-06-24T07:21:09.330317Z",
     "iopub.status.busy": "2023-06-24T07:21:09.329228Z",
     "iopub.status.idle": "2023-06-24T07:21:09.333493Z",
     "shell.execute_reply": "2023-06-24T07:21:09.332950Z",
     "shell.execute_reply.started": "2023-06-23T13:42:18.400094Z"
    },
    "papermill": {
     "duration": 0.087171,
     "end_time": "2023-06-24T07:21:09.333622",
     "exception": false,
     "start_time": "2023-06-24T07:21:09.246451",
     "status": "completed"
    },
    "tags": []
   },
   "outputs": [
    {
     "data": {
      "text/plain": [
       "array([1, 2, 3, 4, 5])"
      ]
     },
     "execution_count": 29,
     "metadata": {},
     "output_type": "execute_result"
    }
   ],
   "source": [
    "a[0]"
   ]
  },
  {
   "cell_type": "code",
   "execution_count": 30,
   "metadata": {
    "execution": {
     "iopub.execute_input": "2023-06-24T07:21:09.493510Z",
     "iopub.status.busy": "2023-06-24T07:21:09.492956Z",
     "iopub.status.idle": "2023-06-24T07:21:09.496949Z",
     "shell.execute_reply": "2023-06-24T07:21:09.496434Z",
     "shell.execute_reply.started": "2023-06-23T13:42:18.408586Z"
    },
    "papermill": {
     "duration": 0.085607,
     "end_time": "2023-06-24T07:21:09.497070",
     "exception": false,
     "start_time": "2023-06-24T07:21:09.411463",
     "status": "completed"
    },
    "tags": []
   },
   "outputs": [
    {
     "data": {
      "text/plain": [
       "array([11, 12, 13, 14, 15])"
      ]
     },
     "execution_count": 30,
     "metadata": {},
     "output_type": "execute_result"
    }
   ],
   "source": [
    "a[2]"
   ]
  },
  {
   "cell_type": "code",
   "execution_count": 31,
   "metadata": {
    "execution": {
     "iopub.execute_input": "2023-06-24T07:21:09.657999Z",
     "iopub.status.busy": "2023-06-24T07:21:09.657410Z",
     "iopub.status.idle": "2023-06-24T07:21:09.661466Z",
     "shell.execute_reply": "2023-06-24T07:21:09.660913Z",
     "shell.execute_reply.started": "2023-06-23T13:42:18.420863Z"
    },
    "papermill": {
     "duration": 0.087246,
     "end_time": "2023-06-24T07:21:09.661629",
     "exception": false,
     "start_time": "2023-06-24T07:21:09.574383",
     "status": "completed"
    },
    "tags": []
   },
   "outputs": [
    {
     "data": {
      "text/plain": [
       "1"
      ]
     },
     "execution_count": 31,
     "metadata": {},
     "output_type": "execute_result"
    }
   ],
   "source": [
    "a[0,0]"
   ]
  },
  {
   "cell_type": "code",
   "execution_count": 32,
   "metadata": {
    "execution": {
     "iopub.execute_input": "2023-06-24T07:21:09.824888Z",
     "iopub.status.busy": "2023-06-24T07:21:09.824169Z",
     "iopub.status.idle": "2023-06-24T07:21:09.827169Z",
     "shell.execute_reply": "2023-06-24T07:21:09.826639Z",
     "shell.execute_reply.started": "2023-06-23T13:42:18.431251Z"
    },
    "papermill": {
     "duration": 0.087021,
     "end_time": "2023-06-24T07:21:09.827319",
     "exception": false,
     "start_time": "2023-06-24T07:21:09.740298",
     "status": "completed"
    },
    "tags": []
   },
   "outputs": [
    {
     "data": {
      "text/plain": [
       "20"
      ]
     },
     "execution_count": 32,
     "metadata": {},
     "output_type": "execute_result"
    }
   ],
   "source": [
    "a[3,4]"
   ]
  },
  {
   "cell_type": "code",
   "execution_count": 33,
   "metadata": {
    "execution": {
     "iopub.execute_input": "2023-06-24T07:21:10.028860Z",
     "iopub.status.busy": "2023-06-24T07:21:10.028165Z",
     "iopub.status.idle": "2023-06-24T07:21:10.033428Z",
     "shell.execute_reply": "2023-06-24T07:21:10.032545Z",
     "shell.execute_reply.started": "2023-06-23T13:42:18.444014Z"
    },
    "papermill": {
     "duration": 0.090713,
     "end_time": "2023-06-24T07:21:10.033583",
     "exception": false,
     "start_time": "2023-06-24T07:21:09.942870",
     "status": "completed"
    },
    "tags": []
   },
   "outputs": [
    {
     "data": {
      "text/plain": [
       "array([[11, 12, 13, 14, 15],\n",
       "       [16, 17, 18, 19, 20],\n",
       "       [21, 22, 23, 24, 25]])"
      ]
     },
     "execution_count": 33,
     "metadata": {},
     "output_type": "execute_result"
    }
   ],
   "source": [
    "a[2:5]"
   ]
  },
  {
   "cell_type": "code",
   "execution_count": 34,
   "metadata": {
    "execution": {
     "iopub.execute_input": "2023-06-24T07:21:10.198933Z",
     "iopub.status.busy": "2023-06-24T07:21:10.198227Z",
     "iopub.status.idle": "2023-06-24T07:21:10.202836Z",
     "shell.execute_reply": "2023-06-24T07:21:10.203295Z",
     "shell.execute_reply.started": "2023-06-23T13:42:18.454916Z"
    },
    "papermill": {
     "duration": 0.08728,
     "end_time": "2023-06-24T07:21:10.203441",
     "exception": false,
     "start_time": "2023-06-24T07:21:10.116161",
     "status": "completed"
    },
    "tags": []
   },
   "outputs": [
    {
     "data": {
      "text/plain": [
       "array([[ 1,  2,  3,  4,  5],\n",
       "       [ 6,  7,  8,  9, 10],\n",
       "       [11, 12, 13, 14, 15],\n",
       "       [16, 17, 18, 19, 20],\n",
       "       [21, 22, 23, 24, 25],\n",
       "       [26, 27, 28, 29, 30],\n",
       "       [31, 32, 33, 34, 35],\n",
       "       [36, 37, 38, 39, 40],\n",
       "       [41, 42, 43, 44, 45],\n",
       "       [46, 47, 48, 49, 50]])"
      ]
     },
     "execution_count": 34,
     "metadata": {},
     "output_type": "execute_result"
    }
   ],
   "source": [
    "a[0:10]"
   ]
  },
  {
   "cell_type": "code",
   "execution_count": 35,
   "metadata": {
    "execution": {
     "iopub.execute_input": "2023-06-24T07:21:10.369165Z",
     "iopub.status.busy": "2023-06-24T07:21:10.368455Z",
     "iopub.status.idle": "2023-06-24T07:21:10.373165Z",
     "shell.execute_reply": "2023-06-24T07:21:10.373672Z",
     "shell.execute_reply.started": "2023-06-23T13:42:18.468183Z"
    },
    "papermill": {
     "duration": 0.089585,
     "end_time": "2023-06-24T07:21:10.373830",
     "exception": false,
     "start_time": "2023-06-24T07:21:10.284245",
     "status": "completed"
    },
    "tags": []
   },
   "outputs": [
    {
     "data": {
      "text/plain": [
       "array([ 3,  8, 13, 18, 23, 28, 33, 38, 43, 48])"
      ]
     },
     "execution_count": 35,
     "metadata": {},
     "output_type": "execute_result"
    }
   ],
   "source": [
    "a[:, 2]"
   ]
  },
  {
   "cell_type": "code",
   "execution_count": 36,
   "metadata": {
    "execution": {
     "iopub.execute_input": "2023-06-24T07:21:10.538751Z",
     "iopub.status.busy": "2023-06-24T07:21:10.538064Z",
     "iopub.status.idle": "2023-06-24T07:21:10.543312Z",
     "shell.execute_reply": "2023-06-24T07:21:10.542850Z",
     "shell.execute_reply.started": "2023-06-23T13:42:18.478170Z"
    },
    "papermill": {
     "duration": 0.088753,
     "end_time": "2023-06-24T07:21:10.543428",
     "exception": false,
     "start_time": "2023-06-24T07:21:10.454675",
     "status": "completed"
    },
    "tags": []
   },
   "outputs": [
    {
     "data": {
      "text/plain": [
       "array([15, 20, 25])"
      ]
     },
     "execution_count": 36,
     "metadata": {},
     "output_type": "execute_result"
    }
   ],
   "source": [
    "a[2:5, 4]"
   ]
  },
  {
   "cell_type": "code",
   "execution_count": 37,
   "metadata": {
    "execution": {
     "iopub.execute_input": "2023-06-24T07:21:10.711007Z",
     "iopub.status.busy": "2023-06-24T07:21:10.710495Z",
     "iopub.status.idle": "2023-06-24T07:21:10.714636Z",
     "shell.execute_reply": "2023-06-24T07:21:10.715091Z",
     "shell.execute_reply.started": "2023-06-23T13:42:18.490757Z"
    },
    "papermill": {
     "duration": 0.089841,
     "end_time": "2023-06-24T07:21:10.715232",
     "exception": false,
     "start_time": "2023-06-24T07:21:10.625391",
     "status": "completed"
    },
    "tags": []
   },
   "outputs": [
    {
     "data": {
      "text/plain": [
       "array([[ 1,  2,  3,  4,  5],\n",
       "       [ 6,  7,  8,  9, 10],\n",
       "       [11, 12, 13, 14, 15],\n",
       "       [16, 17, 18, 19, 20],\n",
       "       [21, 22, 23, 24, 25],\n",
       "       [26, 27, 28, 29, 30],\n",
       "       [31, 32, 33, 34, 35],\n",
       "       [36, 37, 38, 39, 40],\n",
       "       [41, 42, 43, 44, 45],\n",
       "       [46, 47, 48, 49, 50]])"
      ]
     },
     "execution_count": 37,
     "metadata": {},
     "output_type": "execute_result"
    }
   ],
   "source": [
    "a[:, :]"
   ]
  },
  {
   "cell_type": "code",
   "execution_count": 38,
   "metadata": {
    "execution": {
     "iopub.execute_input": "2023-06-24T07:21:10.880842Z",
     "iopub.status.busy": "2023-06-24T07:21:10.880298Z",
     "iopub.status.idle": "2023-06-24T07:21:10.884609Z",
     "shell.execute_reply": "2023-06-24T07:21:10.885137Z",
     "shell.execute_reply.started": "2023-06-23T13:42:18.505787Z"
    },
    "papermill": {
     "duration": 0.088931,
     "end_time": "2023-06-24T07:21:10.885302",
     "exception": false,
     "start_time": "2023-06-24T07:21:10.796371",
     "status": "completed"
    },
    "tags": []
   },
   "outputs": [
    {
     "data": {
      "text/plain": [
       "array([[ 3,  4,  5],\n",
       "       [ 8,  9, 10],\n",
       "       [13, 14, 15],\n",
       "       [18, 19, 20],\n",
       "       [23, 24, 25],\n",
       "       [28, 29, 30],\n",
       "       [33, 34, 35],\n",
       "       [38, 39, 40],\n",
       "       [43, 44, 45],\n",
       "       [48, 49, 50]])"
      ]
     },
     "execution_count": 38,
     "metadata": {},
     "output_type": "execute_result"
    }
   ],
   "source": [
    "a[:, 2:5]"
   ]
  },
  {
   "cell_type": "code",
   "execution_count": 39,
   "metadata": {
    "execution": {
     "iopub.execute_input": "2023-06-24T07:21:11.048969Z",
     "iopub.status.busy": "2023-06-24T07:21:11.048466Z",
     "iopub.status.idle": "2023-06-24T07:21:11.054287Z",
     "shell.execute_reply": "2023-06-24T07:21:11.053825Z",
     "shell.execute_reply.started": "2023-06-23T13:42:18.517848Z"
    },
    "papermill": {
     "duration": 0.089281,
     "end_time": "2023-06-24T07:21:11.054395",
     "exception": false,
     "start_time": "2023-06-24T07:21:10.965114",
     "status": "completed"
    },
    "tags": []
   },
   "outputs": [
    {
     "data": {
      "text/plain": [
       "dtype('int64')"
      ]
     },
     "execution_count": 39,
     "metadata": {},
     "output_type": "execute_result"
    }
   ],
   "source": [
    "a[:, 2:5].dtype"
   ]
  },
  {
   "cell_type": "markdown",
   "metadata": {
    "papermill": {
     "duration": 0.082169,
     "end_time": "2023-06-24T07:21:11.220016",
     "exception": false,
     "start_time": "2023-06-24T07:21:11.137847",
     "status": "completed"
    },
    "tags": []
   },
   "source": [
    "# *************************** Part 5 ***************************"
   ]
  },
  {
   "cell_type": "code",
   "execution_count": 40,
   "metadata": {
    "execution": {
     "iopub.execute_input": "2023-06-24T07:21:11.385432Z",
     "iopub.status.busy": "2023-06-24T07:21:11.384873Z",
     "iopub.status.idle": "2023-06-24T07:21:11.392428Z",
     "shell.execute_reply": "2023-06-24T07:21:11.391926Z",
     "shell.execute_reply.started": "2023-06-23T13:42:18.532376Z"
    },
    "papermill": {
     "duration": 0.090824,
     "end_time": "2023-06-24T07:21:11.392562",
     "exception": false,
     "start_time": "2023-06-24T07:21:11.301738",
     "status": "completed"
    },
    "tags": []
   },
   "outputs": [
    {
     "name": "stdout",
     "output_type": "stream",
     "text": [
      "[[ 0  1  2]\n",
      " [ 3  4  5]\n",
      " [ 6  7  8]\n",
      " [ 9 10 11]\n",
      " [12 13 14]\n",
      " [15 16 17]]\n",
      "[[20 21 22]\n",
      " [23 24 25]\n",
      " [26 27 28]\n",
      " [29 30 31]\n",
      " [32 33 34]\n",
      " [35 36 37]]\n"
     ]
    }
   ],
   "source": [
    "a = np.arange(0,18).reshape((6,3))\n",
    "b = np.arange(20, 38).reshape((6,3))\n",
    "print(a)\n",
    "print(b)"
   ]
  },
  {
   "cell_type": "code",
   "execution_count": 41,
   "metadata": {
    "execution": {
     "iopub.execute_input": "2023-06-24T07:21:11.560631Z",
     "iopub.status.busy": "2023-06-24T07:21:11.559894Z",
     "iopub.status.idle": "2023-06-24T07:21:11.563997Z",
     "shell.execute_reply": "2023-06-24T07:21:11.564469Z",
     "shell.execute_reply.started": "2023-06-23T13:42:18.544932Z"
    },
    "papermill": {
     "duration": 0.089488,
     "end_time": "2023-06-24T07:21:11.564626",
     "exception": false,
     "start_time": "2023-06-24T07:21:11.475138",
     "status": "completed"
    },
    "tags": []
   },
   "outputs": [
    {
     "data": {
      "text/plain": [
       "array([[20, 22, 24],\n",
       "       [26, 28, 30],\n",
       "       [32, 34, 36],\n",
       "       [38, 40, 42],\n",
       "       [44, 46, 48],\n",
       "       [50, 52, 54]])"
      ]
     },
     "execution_count": 41,
     "metadata": {},
     "output_type": "execute_result"
    }
   ],
   "source": [
    "a+b"
   ]
  },
  {
   "cell_type": "code",
   "execution_count": 42,
   "metadata": {
    "execution": {
     "iopub.execute_input": "2023-06-24T07:21:11.731840Z",
     "iopub.status.busy": "2023-06-24T07:21:11.731219Z",
     "iopub.status.idle": "2023-06-24T07:21:11.737832Z",
     "shell.execute_reply": "2023-06-24T07:21:11.738280Z",
     "shell.execute_reply.started": "2023-06-23T13:42:18.563226Z"
    },
    "papermill": {
     "duration": 0.091419,
     "end_time": "2023-06-24T07:21:11.738448",
     "exception": false,
     "start_time": "2023-06-24T07:21:11.647029",
     "status": "completed"
    },
    "tags": []
   },
   "outputs": [
    {
     "data": {
      "text/plain": [
       "array([[20, 22, 24],\n",
       "       [26, 28, 30],\n",
       "       [32, 34, 36],\n",
       "       [38, 40, 42],\n",
       "       [44, 46, 48],\n",
       "       [50, 52, 54]])"
      ]
     },
     "execution_count": 42,
     "metadata": {},
     "output_type": "execute_result"
    }
   ],
   "source": [
    "np.add(a,b)"
   ]
  },
  {
   "cell_type": "code",
   "execution_count": 43,
   "metadata": {
    "execution": {
     "iopub.execute_input": "2023-06-24T07:21:11.909094Z",
     "iopub.status.busy": "2023-06-24T07:21:11.908520Z",
     "iopub.status.idle": "2023-06-24T07:21:11.914915Z",
     "shell.execute_reply": "2023-06-24T07:21:11.914310Z",
     "shell.execute_reply.started": "2023-06-23T13:42:18.572222Z"
    },
    "papermill": {
     "duration": 0.092594,
     "end_time": "2023-06-24T07:21:11.915057",
     "exception": false,
     "start_time": "2023-06-24T07:21:11.822463",
     "status": "completed"
    },
    "tags": []
   },
   "outputs": [
    {
     "data": {
      "text/plain": [
       "array([[-20, -20, -20],\n",
       "       [-20, -20, -20],\n",
       "       [-20, -20, -20],\n",
       "       [-20, -20, -20],\n",
       "       [-20, -20, -20],\n",
       "       [-20, -20, -20]])"
      ]
     },
     "execution_count": 43,
     "metadata": {},
     "output_type": "execute_result"
    }
   ],
   "source": [
    "a-b"
   ]
  },
  {
   "cell_type": "code",
   "execution_count": 44,
   "metadata": {
    "execution": {
     "iopub.execute_input": "2023-06-24T07:21:12.083498Z",
     "iopub.status.busy": "2023-06-24T07:21:12.082736Z",
     "iopub.status.idle": "2023-06-24T07:21:12.087490Z",
     "shell.execute_reply": "2023-06-24T07:21:12.087930Z",
     "shell.execute_reply.started": "2023-06-23T13:42:18.586401Z"
    },
    "papermill": {
     "duration": 0.090069,
     "end_time": "2023-06-24T07:21:12.088073",
     "exception": false,
     "start_time": "2023-06-24T07:21:11.998004",
     "status": "completed"
    },
    "tags": []
   },
   "outputs": [
    {
     "data": {
      "text/plain": [
       "array([[-20, -20, -20],\n",
       "       [-20, -20, -20],\n",
       "       [-20, -20, -20],\n",
       "       [-20, -20, -20],\n",
       "       [-20, -20, -20],\n",
       "       [-20, -20, -20]])"
      ]
     },
     "execution_count": 44,
     "metadata": {},
     "output_type": "execute_result"
    }
   ],
   "source": [
    "np.subtract(a,b)"
   ]
  },
  {
   "cell_type": "code",
   "execution_count": 45,
   "metadata": {
    "execution": {
     "iopub.execute_input": "2023-06-24T07:21:12.257863Z",
     "iopub.status.busy": "2023-06-24T07:21:12.257137Z",
     "iopub.status.idle": "2023-06-24T07:21:12.263938Z",
     "shell.execute_reply": "2023-06-24T07:21:12.263476Z",
     "shell.execute_reply.started": "2023-06-23T13:42:18.597191Z"
    },
    "papermill": {
     "duration": 0.092426,
     "end_time": "2023-06-24T07:21:12.264061",
     "exception": false,
     "start_time": "2023-06-24T07:21:12.171635",
     "status": "completed"
    },
    "tags": []
   },
   "outputs": [
    {
     "data": {
      "text/plain": [
       "array([[  0,  21,  44],\n",
       "       [ 69,  96, 125],\n",
       "       [156, 189, 224],\n",
       "       [261, 300, 341],\n",
       "       [384, 429, 476],\n",
       "       [525, 576, 629]])"
      ]
     },
     "execution_count": 45,
     "metadata": {},
     "output_type": "execute_result"
    }
   ],
   "source": [
    "a*b"
   ]
  },
  {
   "cell_type": "code",
   "execution_count": 46,
   "metadata": {
    "execution": {
     "iopub.execute_input": "2023-06-24T07:21:12.435398Z",
     "iopub.status.busy": "2023-06-24T07:21:12.434726Z",
     "iopub.status.idle": "2023-06-24T07:21:12.439118Z",
     "shell.execute_reply": "2023-06-24T07:21:12.439961Z",
     "shell.execute_reply.started": "2023-06-23T13:42:18.606160Z"
    },
    "papermill": {
     "duration": 0.092223,
     "end_time": "2023-06-24T07:21:12.440299",
     "exception": false,
     "start_time": "2023-06-24T07:21:12.348076",
     "status": "completed"
    },
    "tags": []
   },
   "outputs": [
    {
     "data": {
      "text/plain": [
       "array([[  0,  21,  44],\n",
       "       [ 69,  96, 125],\n",
       "       [156, 189, 224],\n",
       "       [261, 300, 341],\n",
       "       [384, 429, 476],\n",
       "       [525, 576, 629]])"
      ]
     },
     "execution_count": 46,
     "metadata": {},
     "output_type": "execute_result"
    }
   ],
   "source": [
    "np.multiply(a,b)"
   ]
  },
  {
   "cell_type": "code",
   "execution_count": 47,
   "metadata": {
    "execution": {
     "iopub.execute_input": "2023-06-24T07:21:12.618593Z",
     "iopub.status.busy": "2023-06-24T07:21:12.617821Z",
     "iopub.status.idle": "2023-06-24T07:21:12.624489Z",
     "shell.execute_reply": "2023-06-24T07:21:12.623871Z",
     "shell.execute_reply.started": "2023-06-23T13:42:18.616770Z"
    },
    "papermill": {
     "duration": 0.097985,
     "end_time": "2023-06-24T07:21:12.624633",
     "exception": false,
     "start_time": "2023-06-24T07:21:12.526648",
     "status": "completed"
    },
    "tags": []
   },
   "outputs": [
    {
     "data": {
      "text/plain": [
       "array([[0.        , 0.04761905, 0.09090909],\n",
       "       [0.13043478, 0.16666667, 0.2       ],\n",
       "       [0.23076923, 0.25925926, 0.28571429],\n",
       "       [0.31034483, 0.33333333, 0.35483871],\n",
       "       [0.375     , 0.39393939, 0.41176471],\n",
       "       [0.42857143, 0.44444444, 0.45945946]])"
      ]
     },
     "execution_count": 47,
     "metadata": {},
     "output_type": "execute_result"
    }
   ],
   "source": [
    "a/b"
   ]
  },
  {
   "cell_type": "code",
   "execution_count": 48,
   "metadata": {
    "execution": {
     "iopub.execute_input": "2023-06-24T07:21:12.799449Z",
     "iopub.status.busy": "2023-06-24T07:21:12.798812Z",
     "iopub.status.idle": "2023-06-24T07:21:12.802052Z",
     "shell.execute_reply": "2023-06-24T07:21:12.802438Z",
     "shell.execute_reply.started": "2023-06-23T13:42:18.630526Z"
    },
    "papermill": {
     "duration": 0.093431,
     "end_time": "2023-06-24T07:21:12.802595",
     "exception": false,
     "start_time": "2023-06-24T07:21:12.709164",
     "status": "completed"
    },
    "tags": []
   },
   "outputs": [
    {
     "data": {
      "text/plain": [
       "array([[0.        , 0.04761905, 0.09090909],\n",
       "       [0.13043478, 0.16666667, 0.2       ],\n",
       "       [0.23076923, 0.25925926, 0.28571429],\n",
       "       [0.31034483, 0.33333333, 0.35483871],\n",
       "       [0.375     , 0.39393939, 0.41176471],\n",
       "       [0.42857143, 0.44444444, 0.45945946]])"
      ]
     },
     "execution_count": 48,
     "metadata": {},
     "output_type": "execute_result"
    }
   ],
   "source": [
    "np.divide(a,b)"
   ]
  },
  {
   "cell_type": "code",
   "execution_count": 49,
   "metadata": {
    "execution": {
     "iopub.execute_input": "2023-06-24T07:21:12.974213Z",
     "iopub.status.busy": "2023-06-24T07:21:12.973605Z",
     "iopub.status.idle": "2023-06-24T07:21:12.996484Z",
     "shell.execute_reply": "2023-06-24T07:21:12.994899Z",
     "shell.execute_reply.started": "2023-06-23T13:42:18.645162Z"
    },
    "papermill": {
     "duration": 0.110091,
     "end_time": "2023-06-24T07:21:12.996702",
     "exception": true,
     "start_time": "2023-06-24T07:21:12.886611",
     "status": "failed"
    },
    "tags": []
   },
   "outputs": [
    {
     "ename": "ValueError",
     "evalue": "matmul: Input operand 1 has a mismatch in its core dimension 0, with gufunc signature (n?,k),(k,m?)->(n?,m?) (size 6 is different from 3)",
     "output_type": "error",
     "traceback": [
      "\u001b[0;31m---------------------------------------------------------------------------\u001b[0m",
      "\u001b[0;31mValueError\u001b[0m                                Traceback (most recent call last)",
      "\u001b[0;32m<ipython-input-49-a832bb91e25d>\u001b[0m in \u001b[0;36m<module>\u001b[0;34m\u001b[0m\n\u001b[0;32m----> 1\u001b[0;31m \u001b[0ma\u001b[0m\u001b[0;34m@\u001b[0m\u001b[0mb\u001b[0m\u001b[0;34m\u001b[0m\u001b[0;34m\u001b[0m\u001b[0m\n\u001b[0m",
      "\u001b[0;31mValueError\u001b[0m: matmul: Input operand 1 has a mismatch in its core dimension 0, with gufunc signature (n?,k),(k,m?)->(n?,m?) (size 6 is different from 3)"
     ]
    }
   ],
   "source": [
    "a@b"
   ]
  },
  {
   "cell_type": "code",
   "execution_count": null,
   "metadata": {
    "execution": {
     "iopub.status.busy": "2023-06-23T13:42:18.665209Z",
     "iopub.status.idle": "2023-06-23T13:42:18.665668Z"
    },
    "papermill": {
     "duration": null,
     "end_time": null,
     "exception": null,
     "start_time": null,
     "status": "pending"
    },
    "tags": []
   },
   "outputs": [],
   "source": [
    "print(a.shape)\n",
    "print(b.shape)"
   ]
  },
  {
   "cell_type": "code",
   "execution_count": null,
   "metadata": {
    "execution": {
     "iopub.status.busy": "2023-06-23T13:42:18.666859Z",
     "iopub.status.idle": "2023-06-23T13:42:18.667292Z"
    },
    "papermill": {
     "duration": null,
     "end_time": null,
     "exception": null,
     "start_time": null,
     "status": "pending"
    },
    "tags": []
   },
   "outputs": [],
   "source": [
    "b = b.reshape((3,6))"
   ]
  },
  {
   "cell_type": "code",
   "execution_count": null,
   "metadata": {
    "execution": {
     "iopub.status.busy": "2023-06-23T13:42:18.668181Z",
     "iopub.status.idle": "2023-06-23T13:42:18.668605Z"
    },
    "papermill": {
     "duration": null,
     "end_time": null,
     "exception": null,
     "start_time": null,
     "status": "pending"
    },
    "tags": []
   },
   "outputs": [],
   "source": [
    "print(a.shape)\n",
    "print(b.shape)"
   ]
  },
  {
   "cell_type": "code",
   "execution_count": null,
   "metadata": {
    "execution": {
     "iopub.status.busy": "2023-06-23T13:42:18.669627Z",
     "iopub.status.idle": "2023-06-23T13:42:18.670052Z"
    },
    "papermill": {
     "duration": null,
     "end_time": null,
     "exception": null,
     "start_time": null,
     "status": "pending"
    },
    "tags": []
   },
   "outputs": [],
   "source": [
    "a@b"
   ]
  },
  {
   "cell_type": "code",
   "execution_count": null,
   "metadata": {
    "execution": {
     "iopub.status.busy": "2023-06-23T13:42:18.670858Z",
     "iopub.status.idle": "2023-06-23T13:42:18.671311Z"
    },
    "papermill": {
     "duration": null,
     "end_time": null,
     "exception": null,
     "start_time": null,
     "status": "pending"
    },
    "tags": []
   },
   "outputs": [],
   "source": [
    "a.dot(b)"
   ]
  },
  {
   "cell_type": "code",
   "execution_count": null,
   "metadata": {
    "execution": {
     "iopub.status.busy": "2023-06-23T13:42:18.672101Z",
     "iopub.status.idle": "2023-06-23T13:42:18.672524Z"
    },
    "papermill": {
     "duration": null,
     "end_time": null,
     "exception": null,
     "start_time": null,
     "status": "pending"
    },
    "tags": []
   },
   "outputs": [],
   "source": [
    "b.max()"
   ]
  },
  {
   "cell_type": "code",
   "execution_count": null,
   "metadata": {
    "execution": {
     "iopub.status.busy": "2023-06-23T13:42:18.673329Z",
     "iopub.status.idle": "2023-06-23T13:42:18.673751Z"
    },
    "papermill": {
     "duration": null,
     "end_time": null,
     "exception": null,
     "start_time": null,
     "status": "pending"
    },
    "tags": []
   },
   "outputs": [],
   "source": [
    "b.min()"
   ]
  },
  {
   "cell_type": "code",
   "execution_count": null,
   "metadata": {
    "execution": {
     "iopub.status.busy": "2023-06-23T13:42:18.674697Z",
     "iopub.status.idle": "2023-06-23T13:42:18.675129Z"
    },
    "papermill": {
     "duration": null,
     "end_time": null,
     "exception": null,
     "start_time": null,
     "status": "pending"
    },
    "tags": []
   },
   "outputs": [],
   "source": [
    "b.argmax()"
   ]
  },
  {
   "cell_type": "code",
   "execution_count": null,
   "metadata": {
    "execution": {
     "iopub.status.busy": "2023-06-23T13:42:18.676013Z",
     "iopub.status.idle": "2023-06-23T13:42:18.676461Z"
    },
    "papermill": {
     "duration": null,
     "end_time": null,
     "exception": null,
     "start_time": null,
     "status": "pending"
    },
    "tags": []
   },
   "outputs": [],
   "source": [
    "np.sum(b)"
   ]
  },
  {
   "cell_type": "code",
   "execution_count": null,
   "metadata": {
    "execution": {
     "iopub.status.busy": "2023-06-23T13:42:18.677656Z",
     "iopub.status.idle": "2023-06-23T13:42:18.678098Z"
    },
    "papermill": {
     "duration": null,
     "end_time": null,
     "exception": null,
     "start_time": null,
     "status": "pending"
    },
    "tags": []
   },
   "outputs": [],
   "source": [
    "np.sum(b, axis = 1)#return the sum of elements of rows of array b"
   ]
  },
  {
   "cell_type": "code",
   "execution_count": null,
   "metadata": {
    "execution": {
     "iopub.status.busy": "2023-06-23T13:42:18.678981Z",
     "iopub.status.idle": "2023-06-23T13:42:18.679432Z"
    },
    "papermill": {
     "duration": null,
     "end_time": null,
     "exception": null,
     "start_time": null,
     "status": "pending"
    },
    "tags": []
   },
   "outputs": [],
   "source": [
    "b.shape\n"
   ]
  },
  {
   "cell_type": "code",
   "execution_count": null,
   "metadata": {
    "execution": {
     "iopub.status.busy": "2023-06-23T13:42:18.680391Z",
     "iopub.status.idle": "2023-06-23T13:42:18.680825Z"
    },
    "papermill": {
     "duration": null,
     "end_time": null,
     "exception": null,
     "start_time": null,
     "status": "pending"
    },
    "tags": []
   },
   "outputs": [],
   "source": [
    "np.sum(b, axis = 0)#it returns the sum of columns of an array"
   ]
  },
  {
   "cell_type": "code",
   "execution_count": null,
   "metadata": {
    "execution": {
     "iopub.status.busy": "2023-06-23T13:42:18.682274Z",
     "iopub.status.idle": "2023-06-23T13:42:18.682742Z"
    },
    "papermill": {
     "duration": null,
     "end_time": null,
     "exception": null,
     "start_time": null,
     "status": "pending"
    },
    "tags": []
   },
   "outputs": [],
   "source": [
    "np.mean(b)"
   ]
  },
  {
   "cell_type": "code",
   "execution_count": null,
   "metadata": {
    "execution": {
     "iopub.status.busy": "2023-06-23T13:42:18.683849Z",
     "iopub.status.idle": "2023-06-23T13:42:18.684333Z"
    },
    "papermill": {
     "duration": null,
     "end_time": null,
     "exception": null,
     "start_time": null,
     "status": "pending"
    },
    "tags": []
   },
   "outputs": [],
   "source": [
    "np.sqrt(b)"
   ]
  },
  {
   "cell_type": "code",
   "execution_count": null,
   "metadata": {
    "execution": {
     "iopub.status.busy": "2023-06-23T13:42:18.685535Z",
     "iopub.status.idle": "2023-06-23T13:42:18.685999Z"
    },
    "papermill": {
     "duration": null,
     "end_time": null,
     "exception": null,
     "start_time": null,
     "status": "pending"
    },
    "tags": []
   },
   "outputs": [],
   "source": [
    "np.std(b)"
   ]
  },
  {
   "cell_type": "code",
   "execution_count": null,
   "metadata": {
    "execution": {
     "iopub.status.busy": "2023-06-23T13:42:18.687173Z",
     "iopub.status.idle": "2023-06-23T13:42:18.687636Z"
    },
    "papermill": {
     "duration": null,
     "end_time": null,
     "exception": null,
     "start_time": null,
     "status": "pending"
    },
    "tags": []
   },
   "outputs": [],
   "source": [
    "np.log(b)"
   ]
  },
  {
   "cell_type": "markdown",
   "metadata": {
    "papermill": {
     "duration": null,
     "end_time": null,
     "exception": null,
     "start_time": null,
     "status": "pending"
    },
    "tags": []
   },
   "source": [
    "* floor() ---it return groud value of an element\n",
    "* ceil() ---it return high value of an element"
   ]
  },
  {
   "cell_type": "code",
   "execution_count": null,
   "metadata": {
    "execution": {
     "iopub.status.busy": "2023-06-23T13:42:18.688719Z",
     "iopub.status.idle": "2023-06-23T13:42:18.689223Z"
    },
    "papermill": {
     "duration": null,
     "end_time": null,
     "exception": null,
     "start_time": null,
     "status": "pending"
    },
    "tags": []
   },
   "outputs": [],
   "source": [
    "x=np.array([1.2,1.3,5.67,8.97])"
   ]
  },
  {
   "cell_type": "code",
   "execution_count": null,
   "metadata": {
    "execution": {
     "iopub.status.busy": "2023-06-23T13:42:18.690370Z",
     "iopub.status.idle": "2023-06-23T13:42:18.690828Z"
    },
    "papermill": {
     "duration": null,
     "end_time": null,
     "exception": null,
     "start_time": null,
     "status": "pending"
    },
    "tags": []
   },
   "outputs": [],
   "source": [
    "np.floor(x)"
   ]
  },
  {
   "cell_type": "code",
   "execution_count": null,
   "metadata": {
    "execution": {
     "iopub.status.busy": "2023-06-23T13:42:18.691947Z",
     "iopub.status.idle": "2023-06-23T13:42:18.692430Z"
    },
    "papermill": {
     "duration": null,
     "end_time": null,
     "exception": null,
     "start_time": null,
     "status": "pending"
    },
    "tags": []
   },
   "outputs": [],
   "source": [
    "np.ceil(x)"
   ]
  },
  {
   "cell_type": "markdown",
   "metadata": {
    "papermill": {
     "duration": null,
     "end_time": null,
     "exception": null,
     "start_time": null,
     "status": "pending"
    },
    "tags": []
   },
   "source": [
    "* round()--- it will round to nearest value"
   ]
  },
  {
   "cell_type": "code",
   "execution_count": null,
   "metadata": {
    "execution": {
     "iopub.status.busy": "2023-06-23T13:42:18.693576Z",
     "iopub.status.idle": "2023-06-23T13:42:18.694054Z"
    },
    "papermill": {
     "duration": null,
     "end_time": null,
     "exception": null,
     "start_time": null,
     "status": "pending"
    },
    "tags": []
   },
   "outputs": [],
   "source": [
    "np.round(x)"
   ]
  },
  {
   "cell_type": "markdown",
   "metadata": {
    "papermill": {
     "duration": null,
     "end_time": null,
     "exception": null,
     "start_time": null,
     "status": "pending"
    },
    "tags": []
   },
   "source": [
    "************stacking***********----it is merging of two arrays\n",
    "1. vertical stacking----number of columns should be same \n",
    "1. horizontal stacking---number of rows must be same"
   ]
  },
  {
   "cell_type": "code",
   "execution_count": null,
   "metadata": {
    "execution": {
     "iopub.status.busy": "2023-06-23T13:42:18.695098Z",
     "iopub.status.idle": "2023-06-23T13:42:18.695560Z"
    },
    "papermill": {
     "duration": null,
     "end_time": null,
     "exception": null,
     "start_time": null,
     "status": "pending"
    },
    "tags": []
   },
   "outputs": [],
   "source": [
    "a=np.array([1,2,3,4,5])\n",
    "b=np.array([6,7,8,9,10])"
   ]
  },
  {
   "cell_type": "code",
   "execution_count": null,
   "metadata": {
    "execution": {
     "iopub.status.busy": "2023-06-23T13:42:18.696552Z",
     "iopub.status.idle": "2023-06-23T13:42:18.697013Z"
    },
    "papermill": {
     "duration": null,
     "end_time": null,
     "exception": null,
     "start_time": null,
     "status": "pending"
    },
    "tags": []
   },
   "outputs": [],
   "source": [
    "np.stack((a,b))"
   ]
  },
  {
   "cell_type": "markdown",
   "metadata": {
    "papermill": {
     "duration": null,
     "end_time": null,
     "exception": null,
     "start_time": null,
     "status": "pending"
    },
    "tags": []
   },
   "source": [
    "1. hstack()----horizontal stacking (row-wise)\n",
    "1. vstack()----vertical stacking(column -wise)"
   ]
  },
  {
   "cell_type": "code",
   "execution_count": null,
   "metadata": {
    "execution": {
     "iopub.status.busy": "2023-06-23T13:42:18.698200Z",
     "iopub.status.idle": "2023-06-23T13:42:18.698660Z"
    },
    "papermill": {
     "duration": null,
     "end_time": null,
     "exception": null,
     "start_time": null,
     "status": "pending"
    },
    "tags": []
   },
   "outputs": [],
   "source": [
    "a=np.arange(0,12).reshape((3,4))\n",
    "b=np.arange(20,38).reshape((3,6))"
   ]
  },
  {
   "cell_type": "code",
   "execution_count": null,
   "metadata": {
    "execution": {
     "iopub.status.busy": "2023-06-23T13:42:18.699671Z",
     "iopub.status.idle": "2023-06-23T13:42:18.700163Z"
    },
    "papermill": {
     "duration": null,
     "end_time": null,
     "exception": null,
     "start_time": null,
     "status": "pending"
    },
    "tags": []
   },
   "outputs": [],
   "source": [
    "print(a)\n",
    "print(b)"
   ]
  },
  {
   "cell_type": "code",
   "execution_count": null,
   "metadata": {
    "execution": {
     "iopub.status.busy": "2023-06-23T13:42:18.701403Z",
     "iopub.status.idle": "2023-06-23T13:42:18.701865Z"
    },
    "papermill": {
     "duration": null,
     "end_time": null,
     "exception": null,
     "start_time": null,
     "status": "pending"
    },
    "tags": []
   },
   "outputs": [],
   "source": [
    "np.hstack((a,b))"
   ]
  },
  {
   "cell_type": "code",
   "execution_count": null,
   "metadata": {
    "execution": {
     "iopub.status.busy": "2023-06-23T13:42:18.702876Z",
     "iopub.status.idle": "2023-06-23T13:42:18.703370Z"
    },
    "papermill": {
     "duration": null,
     "end_time": null,
     "exception": null,
     "start_time": null,
     "status": "pending"
    },
    "tags": []
   },
   "outputs": [],
   "source": [
    "a.reshape((2,6))"
   ]
  },
  {
   "cell_type": "code",
   "execution_count": null,
   "metadata": {
    "execution": {
     "iopub.status.busy": "2023-06-23T13:42:18.704401Z",
     "iopub.status.idle": "2023-06-23T13:42:18.704858Z"
    },
    "papermill": {
     "duration": null,
     "end_time": null,
     "exception": null,
     "start_time": null,
     "status": "pending"
    },
    "tags": []
   },
   "outputs": [],
   "source": [
    "# np.vstack((a,b))"
   ]
  },
  {
   "cell_type": "markdown",
   "metadata": {
    "papermill": {
     "duration": null,
     "end_time": null,
     "exception": null,
     "start_time": null,
     "status": "pending"
    },
    "tags": []
   },
   "source": [
    "**split**"
   ]
  },
  {
   "cell_type": "code",
   "execution_count": null,
   "metadata": {
    "execution": {
     "iopub.status.busy": "2023-06-23T13:42:18.705963Z",
     "iopub.status.idle": "2023-06-23T13:42:18.706459Z"
    },
    "papermill": {
     "duration": null,
     "end_time": null,
     "exception": null,
     "start_time": null,
     "status": "pending"
    },
    "tags": []
   },
   "outputs": [],
   "source": [
    "#vertical split----splits the array into multiple array vertically(row wise)\n",
    "#horizontal split----splits the array into multiple array horizontally(column wise)\n",
    "#sytax==np.split(array_name,no.of.arrays)\n",
    "a=np.arange(100).reshape((10,10))\n",
    "a"
   ]
  },
  {
   "cell_type": "code",
   "execution_count": null,
   "metadata": {
    "execution": {
     "iopub.status.busy": "2023-06-23T13:42:18.707516Z",
     "iopub.status.idle": "2023-06-23T13:42:18.707985Z"
    },
    "papermill": {
     "duration": null,
     "end_time": null,
     "exception": null,
     "start_time": null,
     "status": "pending"
    },
    "tags": []
   },
   "outputs": [],
   "source": [
    "np.vsplit(a,2)"
   ]
  },
  {
   "cell_type": "code",
   "execution_count": null,
   "metadata": {
    "execution": {
     "iopub.status.busy": "2023-06-23T13:42:18.709276Z",
     "iopub.status.idle": "2023-06-23T13:42:18.709745Z"
    },
    "papermill": {
     "duration": null,
     "end_time": null,
     "exception": null,
     "start_time": null,
     "status": "pending"
    },
    "tags": []
   },
   "outputs": [],
   "source": [
    "np.hsplit(a,2)"
   ]
  },
  {
   "cell_type": "code",
   "execution_count": null,
   "metadata": {
    "execution": {
     "iopub.status.busy": "2023-06-23T13:42:18.710854Z",
     "iopub.status.idle": "2023-06-23T13:42:18.711347Z"
    },
    "papermill": {
     "duration": null,
     "end_time": null,
     "exception": null,
     "start_time": null,
     "status": "pending"
    },
    "tags": []
   },
   "outputs": [],
   "source": [
    "#linspace---it create randomly genrated vlaues between st and end(note:it include end aslo)\n",
    "np.linspace(0,30)#it include 30 also"
   ]
  },
  {
   "cell_type": "markdown",
   "metadata": {
    "papermill": {
     "duration": null,
     "end_time": null,
     "exception": null,
     "start_time": null,
     "status": "pending"
    },
    "tags": []
   },
   "source": [
    "# *************************** Part 6 ***************************"
   ]
  },
  {
   "cell_type": "code",
   "execution_count": null,
   "metadata": {
    "execution": {
     "iopub.status.busy": "2023-06-23T13:42:18.712420Z",
     "iopub.status.idle": "2023-06-23T13:42:18.712885Z"
    },
    "papermill": {
     "duration": null,
     "end_time": null,
     "exception": null,
     "start_time": null,
     "status": "pending"
    },
    "tags": []
   },
   "outputs": [],
   "source": [
    "import matplotlib.pyplot as plt\n",
    "plt.style.use('dark_background')"
   ]
  },
  {
   "cell_type": "code",
   "execution_count": null,
   "metadata": {
    "execution": {
     "iopub.status.busy": "2023-06-23T13:42:18.713996Z",
     "iopub.status.idle": "2023-06-23T13:42:18.714491Z"
    },
    "papermill": {
     "duration": null,
     "end_time": null,
     "exception": null,
     "start_time": null,
     "status": "pending"
    },
    "tags": []
   },
   "outputs": [],
   "source": [
    "np.pi"
   ]
  },
  {
   "cell_type": "code",
   "execution_count": null,
   "metadata": {
    "execution": {
     "iopub.status.busy": "2023-06-23T13:42:18.715516Z",
     "iopub.status.idle": "2023-06-23T13:42:18.715987Z"
    },
    "papermill": {
     "duration": null,
     "end_time": null,
     "exception": null,
     "start_time": null,
     "status": "pending"
    },
    "tags": []
   },
   "outputs": [],
   "source": [
    "np.sin(np.pi/2) # 90 degrees"
   ]
  },
  {
   "cell_type": "code",
   "execution_count": null,
   "metadata": {
    "execution": {
     "iopub.status.busy": "2023-06-23T13:42:18.717483Z",
     "iopub.status.idle": "2023-06-23T13:42:18.717952Z"
    },
    "papermill": {
     "duration": null,
     "end_time": null,
     "exception": null,
     "start_time": null,
     "status": "pending"
    },
    "tags": []
   },
   "outputs": [],
   "source": [
    "np.sin(np.pi/6) "
   ]
  },
  {
   "cell_type": "code",
   "execution_count": null,
   "metadata": {
    "execution": {
     "iopub.status.busy": "2023-06-23T13:42:18.719160Z",
     "iopub.status.idle": "2023-06-23T13:42:18.719623Z"
    },
    "papermill": {
     "duration": null,
     "end_time": null,
     "exception": null,
     "start_time": null,
     "status": "pending"
    },
    "tags": []
   },
   "outputs": [],
   "source": [
    "np.cos(np.pi/2)"
   ]
  },
  {
   "cell_type": "code",
   "execution_count": null,
   "metadata": {
    "execution": {
     "iopub.status.busy": "2023-06-23T13:42:18.720688Z",
     "iopub.status.idle": "2023-06-23T13:42:18.721179Z"
    },
    "papermill": {
     "duration": null,
     "end_time": null,
     "exception": null,
     "start_time": null,
     "status": "pending"
    },
    "tags": []
   },
   "outputs": [],
   "source": [
    "np.tan(np.pi/2)"
   ]
  },
  {
   "cell_type": "code",
   "execution_count": null,
   "metadata": {
    "execution": {
     "iopub.status.busy": "2023-06-23T13:42:18.722232Z",
     "iopub.status.idle": "2023-06-23T13:42:18.722702Z"
    },
    "papermill": {
     "duration": null,
     "end_time": null,
     "exception": null,
     "start_time": null,
     "status": "pending"
    },
    "tags": []
   },
   "outputs": [],
   "source": [
    "np.tan(0)"
   ]
  },
  {
   "cell_type": "markdown",
   "metadata": {
    "papermill": {
     "duration": null,
     "end_time": null,
     "exception": null,
     "start_time": null,
     "status": "pending"
    },
    "tags": []
   },
   "source": [
    "**Using Matplotlib with Numpy**"
   ]
  },
  {
   "cell_type": "code",
   "execution_count": null,
   "metadata": {
    "execution": {
     "iopub.status.busy": "2023-06-23T13:42:18.723990Z",
     "iopub.status.idle": "2023-06-23T13:42:18.724818Z"
    },
    "papermill": {
     "duration": null,
     "end_time": null,
     "exception": null,
     "start_time": null,
     "status": "pending"
    },
    "tags": []
   },
   "outputs": [],
   "source": [
    "x = np.arange(1,11)\n",
    "y = np.arange(10, 110, 10)\n",
    "\n",
    "plt.figure(figsize = (6,6))\n",
    "plt.plot(x,y, 'r--')\n",
    "plt.show()"
   ]
  },
  {
   "cell_type": "markdown",
   "metadata": {
    "papermill": {
     "duration": null,
     "end_time": null,
     "exception": null,
     "start_time": null,
     "status": "pending"
    },
    "tags": []
   },
   "source": [
    "**Plotting Trigonometric Curves**"
   ]
  },
  {
   "cell_type": "code",
   "execution_count": null,
   "metadata": {
    "execution": {
     "iopub.status.busy": "2023-06-23T13:42:18.725864Z",
     "iopub.status.idle": "2023-06-23T13:42:18.726348Z"
    },
    "papermill": {
     "duration": null,
     "end_time": null,
     "exception": null,
     "start_time": null,
     "status": "pending"
    },
    "tags": []
   },
   "outputs": [],
   "source": [
    "x_sin = np.arange(0,2*np.pi, 0.1)\n",
    "y_sin = np.sin(x_sin)\n",
    "\n",
    "print(y_sin)"
   ]
  },
  {
   "cell_type": "code",
   "execution_count": null,
   "metadata": {
    "execution": {
     "iopub.status.busy": "2023-06-23T13:42:18.727405Z",
     "iopub.status.idle": "2023-06-23T13:42:18.727866Z"
    },
    "papermill": {
     "duration": null,
     "end_time": null,
     "exception": null,
     "start_time": null,
     "status": "pending"
    },
    "tags": []
   },
   "outputs": [],
   "source": [
    "plt.figure(figsize = (6,6))\n",
    "plt.plot(x_sin, y_sin)\n",
    "plt.title('Sin Curve')\n",
    "plt.show()"
   ]
  },
  {
   "cell_type": "code",
   "execution_count": null,
   "metadata": {
    "execution": {
     "iopub.status.busy": "2023-06-23T13:42:18.728854Z",
     "iopub.status.idle": "2023-06-23T13:42:18.729328Z"
    },
    "papermill": {
     "duration": null,
     "end_time": null,
     "exception": null,
     "start_time": null,
     "status": "pending"
    },
    "tags": []
   },
   "outputs": [],
   "source": [
    "x_cos = np.arange(0, 2*np.pi, 0.1)\n",
    "y_cos = np.cos(x_cos)\n",
    "\n",
    "plt.figure(figsize = (6,6))\n",
    "plt.plot(x_cos, y_cos)\n",
    "plt.title('Cos Curve')\n",
    "plt.show()"
   ]
  },
  {
   "cell_type": "code",
   "execution_count": null,
   "metadata": {
    "execution": {
     "iopub.status.busy": "2023-06-23T13:42:18.730291Z",
     "iopub.status.idle": "2023-06-23T13:42:18.730747Z"
    },
    "papermill": {
     "duration": null,
     "end_time": null,
     "exception": null,
     "start_time": null,
     "status": "pending"
    },
    "tags": []
   },
   "outputs": [],
   "source": [
    "x_tan = np.arange(0, 2*np.pi, 0.1)\n",
    "y_tan = np.tan(x_tan)\n",
    "\n",
    "plt.figure(figsize = (6,6))\n",
    "plt.plot(x_tan, y_tan)\n",
    "plt.title('Tan Curve')\n",
    "plt.show()"
   ]
  },
  {
   "cell_type": "code",
   "execution_count": null,
   "metadata": {
    "execution": {
     "iopub.status.busy": "2023-06-23T13:42:18.731717Z",
     "iopub.status.idle": "2023-06-23T13:42:18.732201Z"
    },
    "papermill": {
     "duration": null,
     "end_time": null,
     "exception": null,
     "start_time": null,
     "status": "pending"
    },
    "tags": []
   },
   "outputs": [],
   "source": [
    "x_cot = np.arange(0, 2*np.pi, 0.1)\n",
    "y_cot = 1/np.tan(x_cot)\n",
    "\n",
    "plt.figure(figsize = (6,6))\n",
    "plt.plot(x_cot, y_cot)\n",
    "plt.title('Cot Curve')\n",
    "plt.show()"
   ]
  },
  {
   "cell_type": "markdown",
   "metadata": {
    "papermill": {
     "duration": null,
     "end_time": null,
     "exception": null,
     "start_time": null,
     "status": "pending"
    },
    "tags": []
   },
   "source": [
    "**Subplot**"
   ]
  },
  {
   "cell_type": "code",
   "execution_count": null,
   "metadata": {
    "execution": {
     "iopub.status.busy": "2023-06-23T13:42:18.733120Z",
     "iopub.status.idle": "2023-06-23T13:42:18.733583Z"
    },
    "papermill": {
     "duration": null,
     "end_time": null,
     "exception": null,
     "start_time": null,
     "status": "pending"
    },
    "tags": []
   },
   "outputs": [],
   "source": [
    "plt.figure(figsize = (6,6))\n",
    "plt.subplot(2,2,1)\n",
    "plt.plot(x_sin, y_sin, 'r-')\n",
    "plt.title('Sin Curve')\n",
    "\n",
    "plt.subplot(2,2,2)\n",
    "plt.plot(x_cos, y_cos, 'b-')\n",
    "plt.title('Cos Curve')\n",
    "\n",
    "plt.subplot(2,2,3)\n",
    "plt.plot(x_tan, y_tan, 'g-')\n",
    "plt.title('Tan Curve')\n",
    "\n",
    "plt.subplot(2,2,4)\n",
    "plt.plot(x_cot, y_cot, 'w-')\n",
    "plt.title('Cot Curve')\n",
    "\n",
    "plt.show()\n"
   ]
  },
  {
   "cell_type": "markdown",
   "metadata": {
    "papermill": {
     "duration": null,
     "end_time": null,
     "exception": null,
     "start_time": null,
     "status": "pending"
    },
    "tags": []
   },
   "source": [
    "# *************************** Part 7 ***************************"
   ]
  },
  {
   "cell_type": "code",
   "execution_count": null,
   "metadata": {
    "execution": {
     "iopub.status.busy": "2023-06-23T13:42:18.734528Z",
     "iopub.status.idle": "2023-06-23T13:42:18.734984Z"
    },
    "papermill": {
     "duration": null,
     "end_time": null,
     "exception": null,
     "start_time": null,
     "status": "pending"
    },
    "tags": []
   },
   "outputs": [],
   "source": [
    "np.random.random(1)"
   ]
  },
  {
   "cell_type": "code",
   "execution_count": null,
   "metadata": {
    "execution": {
     "iopub.status.busy": "2023-06-23T13:42:18.735868Z",
     "iopub.status.idle": "2023-06-23T13:42:18.736347Z"
    },
    "papermill": {
     "duration": null,
     "end_time": null,
     "exception": null,
     "start_time": null,
     "status": "pending"
    },
    "tags": []
   },
   "outputs": [],
   "source": [
    "#random\n",
    "np.random.random(2)#it will given an random 2 numbers"
   ]
  },
  {
   "cell_type": "code",
   "execution_count": null,
   "metadata": {
    "execution": {
     "iopub.status.busy": "2023-06-23T13:42:18.737348Z",
     "iopub.status.idle": "2023-06-23T13:42:18.737794Z"
    },
    "papermill": {
     "duration": null,
     "end_time": null,
     "exception": null,
     "start_time": null,
     "status": "pending"
    },
    "tags": []
   },
   "outputs": [],
   "source": [
    " np.random.random((2,2)) #it will given an array of 2 by 2 having random values"
   ]
  },
  {
   "cell_type": "code",
   "execution_count": null,
   "metadata": {
    "execution": {
     "iopub.status.busy": "2023-06-23T13:42:18.738653Z",
     "iopub.status.idle": "2023-06-23T13:42:18.739129Z"
    },
    "papermill": {
     "duration": null,
     "end_time": null,
     "exception": null,
     "start_time": null,
     "status": "pending"
    },
    "tags": []
   },
   "outputs": [],
   "source": [
    "#randint\n",
    "np.random.randint(1,10) #it will return random number between given range(1,10)"
   ]
  },
  {
   "cell_type": "code",
   "execution_count": null,
   "metadata": {
    "execution": {
     "iopub.status.busy": "2023-06-23T13:42:18.740318Z",
     "iopub.status.idle": "2023-06-23T13:42:18.740761Z"
    },
    "papermill": {
     "duration": null,
     "end_time": null,
     "exception": null,
     "start_time": null,
     "status": "pending"
    },
    "tags": []
   },
   "outputs": [],
   "source": [
    "np.random.randint(1,10, (2,2))"
   ]
  },
  {
   "cell_type": "code",
   "execution_count": null,
   "metadata": {
    "execution": {
     "iopub.status.busy": "2023-06-23T13:42:18.741673Z",
     "iopub.status.idle": "2023-06-23T13:42:18.742149Z"
    },
    "papermill": {
     "duration": null,
     "end_time": null,
     "exception": null,
     "start_time": null,
     "status": "pending"
    },
    "tags": []
   },
   "outputs": [],
   "source": [
    "np.random.randint(1,10, (3,4,5))"
   ]
  },
  {
   "cell_type": "code",
   "execution_count": null,
   "metadata": {
    "execution": {
     "iopub.status.busy": "2023-06-23T13:42:18.743166Z",
     "iopub.status.idle": "2023-06-23T13:42:18.743620Z"
    },
    "papermill": {
     "duration": null,
     "end_time": null,
     "exception": null,
     "start_time": null,
     "status": "pending"
    },
    "tags": []
   },
   "outputs": [],
   "source": [
    "#rand---it will return array of floating values in 2 by 2 dimension.\n",
    "np.random.rand(2,2)"
   ]
  },
  {
   "cell_type": "code",
   "execution_count": null,
   "metadata": {
    "execution": {
     "iopub.status.busy": "2023-06-23T13:42:18.744568Z",
     "iopub.status.idle": "2023-06-23T13:42:18.745029Z"
    },
    "papermill": {
     "duration": null,
     "end_time": null,
     "exception": null,
     "start_time": null,
     "status": "pending"
    },
    "tags": []
   },
   "outputs": [],
   "source": [
    "#randn----it will return array of negative values also\n",
    "np.random.randn(2,2)"
   ]
  },
  {
   "cell_type": "code",
   "execution_count": null,
   "metadata": {
    "execution": {
     "iopub.status.busy": "2023-06-23T13:42:18.746109Z",
     "iopub.status.idle": "2023-06-23T13:42:18.746569Z"
    },
    "papermill": {
     "duration": null,
     "end_time": null,
     "exception": null,
     "start_time": null,
     "status": "pending"
    },
    "tags": []
   },
   "outputs": [],
   "source": [
    "a = np.arange(1,10)\n",
    "print(a)"
   ]
  },
  {
   "cell_type": "code",
   "execution_count": null,
   "metadata": {
    "execution": {
     "iopub.status.busy": "2023-06-23T13:42:18.747591Z",
     "iopub.status.idle": "2023-06-23T13:42:18.748063Z"
    },
    "papermill": {
     "duration": null,
     "end_time": null,
     "exception": null,
     "start_time": null,
     "status": "pending"
    },
    "tags": []
   },
   "outputs": [],
   "source": [
    "#choice---it will return random number from an given array\n",
    "np.random.choice(a)"
   ]
  },
  {
   "cell_type": "markdown",
   "metadata": {
    "papermill": {
     "duration": null,
     "end_time": null,
     "exception": null,
     "start_time": null,
     "status": "pending"
    },
    "tags": []
   },
   "source": [
    "# *************************** Part 8 ***************************"
   ]
  },
  {
   "cell_type": "code",
   "execution_count": null,
   "metadata": {
    "execution": {
     "iopub.status.busy": "2023-06-23T13:42:18.749061Z",
     "iopub.status.idle": "2023-06-23T13:42:18.749523Z"
    },
    "papermill": {
     "duration": null,
     "end_time": null,
     "exception": null,
     "start_time": null,
     "status": "pending"
    },
    "tags": []
   },
   "outputs": [],
   "source": [
    "s1 = 'Akshit is my name'\n",
    "s2 = 'I am an Indian'"
   ]
  },
  {
   "cell_type": "code",
   "execution_count": null,
   "metadata": {
    "execution": {
     "iopub.status.busy": "2023-06-23T13:42:18.750430Z",
     "iopub.status.idle": "2023-06-23T13:42:18.750877Z"
    },
    "papermill": {
     "duration": null,
     "end_time": null,
     "exception": null,
     "start_time": null,
     "status": "pending"
    },
    "tags": []
   },
   "outputs": [],
   "source": [
    "np.char.add(s1, s2)"
   ]
  },
  {
   "cell_type": "code",
   "execution_count": null,
   "metadata": {
    "execution": {
     "iopub.status.busy": "2023-06-23T13:42:18.752104Z",
     "iopub.status.idle": "2023-06-23T13:42:18.752653Z"
    },
    "papermill": {
     "duration": null,
     "end_time": null,
     "exception": null,
     "start_time": null,
     "status": "pending"
    },
    "tags": []
   },
   "outputs": [],
   "source": [
    "np.char.upper(s1)"
   ]
  },
  {
   "cell_type": "code",
   "execution_count": null,
   "metadata": {
    "execution": {
     "iopub.status.busy": "2023-06-23T13:42:18.753845Z",
     "iopub.status.idle": "2023-06-23T13:42:18.754363Z"
    },
    "papermill": {
     "duration": null,
     "end_time": null,
     "exception": null,
     "start_time": null,
     "status": "pending"
    },
    "tags": []
   },
   "outputs": [],
   "source": [
    "np.char.lower(s1)"
   ]
  },
  {
   "cell_type": "code",
   "execution_count": null,
   "metadata": {
    "execution": {
     "iopub.status.busy": "2023-06-23T13:42:18.755471Z",
     "iopub.status.idle": "2023-06-23T13:42:18.755958Z"
    },
    "papermill": {
     "duration": null,
     "end_time": null,
     "exception": null,
     "start_time": null,
     "status": "pending"
    },
    "tags": []
   },
   "outputs": [],
   "source": [
    "np.char.split(s1)"
   ]
  },
  {
   "cell_type": "code",
   "execution_count": null,
   "metadata": {
    "execution": {
     "iopub.status.busy": "2023-06-23T13:42:18.757162Z",
     "iopub.status.idle": "2023-06-23T13:42:18.757652Z"
    },
    "papermill": {
     "duration": null,
     "end_time": null,
     "exception": null,
     "start_time": null,
     "status": "pending"
    },
    "tags": []
   },
   "outputs": [],
   "source": [
    "s3 = 'Akshit is my\\nname'\n",
    "np.char.splitlines(s3)"
   ]
  },
  {
   "cell_type": "code",
   "execution_count": null,
   "metadata": {
    "execution": {
     "iopub.status.busy": "2023-06-23T13:42:18.758663Z",
     "iopub.status.idle": "2023-06-23T13:42:18.759252Z"
    },
    "papermill": {
     "duration": null,
     "end_time": null,
     "exception": null,
     "start_time": null,
     "status": "pending"
    },
    "tags": []
   },
   "outputs": [],
   "source": [
    "np.char.replace(s1, 'name', 'sirname')"
   ]
  },
  {
   "cell_type": "code",
   "execution_count": null,
   "metadata": {
    "execution": {
     "iopub.status.busy": "2023-06-23T13:42:18.760195Z",
     "iopub.status.idle": "2023-06-23T13:42:18.760730Z"
    },
    "papermill": {
     "duration": null,
     "end_time": null,
     "exception": null,
     "start_time": null,
     "status": "pending"
    },
    "tags": []
   },
   "outputs": [],
   "source": [
    "print('**********good bye***********')"
   ]
  },
  {
   "cell_type": "code",
   "execution_count": null,
   "metadata": {
    "execution": {
     "iopub.status.busy": "2023-06-23T13:42:18.761783Z",
     "iopub.status.idle": "2023-06-23T13:42:18.762290Z"
    },
    "papermill": {
     "duration": null,
     "end_time": null,
     "exception": null,
     "start_time": null,
     "status": "pending"
    },
    "tags": []
   },
   "outputs": [],
   "source": [
    "print(np.char.center('good bye', 80, '*'))"
   ]
  },
  {
   "cell_type": "code",
   "execution_count": null,
   "metadata": {
    "papermill": {
     "duration": null,
     "end_time": null,
     "exception": null,
     "start_time": null,
     "status": "pending"
    },
    "tags": []
   },
   "outputs": [],
   "source": []
  },
  {
   "cell_type": "markdown",
   "metadata": {
    "papermill": {
     "duration": null,
     "end_time": null,
     "exception": null,
     "start_time": null,
     "status": "pending"
    },
    "tags": []
   },
   "source": []
  }
 ],
 "metadata": {
  "kernelspec": {
   "display_name": "Python 3",
   "language": "python",
   "name": "python3"
  },
  "language_info": {
   "codemirror_mode": {
    "name": "ipython",
    "version": 3
   },
   "file_extension": ".py",
   "mimetype": "text/x-python",
   "name": "python",
   "nbconvert_exporter": "python",
   "pygments_lexer": "ipython3",
   "version": "3.7.9"
  },
  "papermill": {
   "default_parameters": {},
   "duration": 16.544862,
   "end_time": "2023-06-24T07:21:13.605267",
   "environment_variables": {},
   "exception": true,
   "input_path": "__notebook__.ipynb",
   "output_path": "__notebook__.ipynb",
   "parameters": {},
   "start_time": "2023-06-24T07:20:57.060405",
   "version": "2.2.2"
  }
 },
 "nbformat": 4,
 "nbformat_minor": 4
}
